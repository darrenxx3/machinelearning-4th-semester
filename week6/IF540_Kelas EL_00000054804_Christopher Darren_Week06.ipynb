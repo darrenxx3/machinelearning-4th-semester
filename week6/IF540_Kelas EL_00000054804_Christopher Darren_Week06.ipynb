{
 "cells": [
  {
   "cell_type": "markdown",
   "id": "aea691db",
   "metadata": {},
   "source": [
    "## <div align=\"center\"> TUGAS LAB IF540 MACHINE LEARNING </div>\n",
    "### <div align=\"center\"> WEEK 06 : Instance Based Learning </div>\n",
    "\n",
    "#### <div align=\"center\"> Semester Genap 2022/2023 </div>"
   ]
  },
  {
   "cell_type": "code",
   "execution_count": 2,
   "id": "6704ffa6",
   "metadata": {},
   "outputs": [],
   "source": [
    "# Run this code when you restart the machine\n",
    "# Fill in with YOUR name and NIM\n",
    "import datetime\n",
    "import uuid\n",
    "\n",
    "myName = \"Christopher Darren\"\n",
    "myNIM = \"00000054804\""
   ]
  },
  {
   "cell_type": "code",
   "execution_count": 2,
   "id": "ad81e0ee",
   "metadata": {},
   "outputs": [
    {
     "name": "stdout",
     "output_type": "stream",
     "text": [
      "Name: \t\tChristopher Darren\n",
      "NIM: \t\t00000054804\n",
      "Start: \t\t2023-03-16 08:19:37.227855\n",
      "Device ID: \t9e0a5f1f-c398-11ed-a857-f02f74a116e8\n"
     ]
    }
   ],
   "source": [
    "myDate = datetime.datetime.now()\n",
    "myDevice = str(uuid.uuid1())\n",
    "\n",
    "print(\"Name: \\t\\t{}\".format(myName))\n",
    "print(\"NIM: \\t\\t{}\".format(myNIM))\n",
    "print(\"Start: \\t\\t{}\".format(myDate))\n",
    "print(\"Device ID: \\t{}\".format(myDevice))"
   ]
  },
  {
   "cell_type": "markdown",
   "id": "ce3f5e6e",
   "metadata": {},
   "source": [
    "\n",
    "---\n",
    "\n",
    "### Dataset yang dipakai:\n",
    "\n",
    "1. Air – sumber : https://www.kaggle.com/datasets/fedesoriano/air-quality-data-set\n",
    "\n",
    "\n",
    "---\n",
    "\n",
    "### Hasil kerja"
   ]
  },
  {
   "cell_type": "markdown",
   "id": "045ceb51",
   "metadata": {},
   "source": [
    "#### Importing system library"
   ]
  },
  {
   "cell_type": "code",
   "execution_count": 3,
   "id": "d8c4470e",
   "metadata": {},
   "outputs": [],
   "source": [
    "import sys"
   ]
  },
  {
   "cell_type": "markdown",
   "id": "5605ad06",
   "metadata": {},
   "source": [
    "#### Importing libraries"
   ]
  },
  {
   "cell_type": "code",
   "execution_count": 4,
   "id": "8c378416",
   "metadata": {},
   "outputs": [],
   "source": [
    "import numpy as np\n",
    "import sklearn.datasets\n",
    "import mglearn\n",
    "import matplotlib.pyplot as plt"
   ]
  },
  {
   "cell_type": "code",
   "execution_count": 5,
   "id": "362f81c8",
   "metadata": {},
   "outputs": [
    {
     "name": "stdout",
     "output_type": "stream",
     "text": [
      "X.shape: (26, 2)\n"
     ]
    },
    {
     "name": "stderr",
     "output_type": "stream",
     "text": [
      "C:\\Users\\Darren\\anaconda3\\lib\\site-packages\\sklearn\\utils\\deprecation.py:87: FutureWarning: Function make_blobs is deprecated; Please import make_blobs directly from scikit-learn\n",
      "  warnings.warn(msg, category=FutureWarning)\n"
     ]
    },
    {
     "data": {
      "image/png": "[encoded data removed]",
      "text/plain": [
       "<Figure size 432x288 with 1 Axes>"
      ]
     },
     "metadata": {
      "needs_background": "light"
     },
     "output_type": "display_data"
    }
   ],
   "source": [
    "X, y = mglearn.datasets.make_forge()\n",
    "# plot dataset\n",
    "mglearn.discrete_scatter(X[:, 0], X[:, 1], y)\n",
    "plt.legend([\"Class 0\",\"Class 1\"], loc=4)\n",
    "plt.xlabel(\"First feature\")\n",
    "plt.ylabel(\"Second feature\")\n",
    "print(\"X.shape: {}\".format(X.shape))"
   ]
  },
  {
   "cell_type": "code",
   "execution_count": 6,
   "id": "901a2868",
   "metadata": {},
   "outputs": [
    {
     "name": "stderr",
     "output_type": "stream",
     "text": [
      "C:\\Users\\Darren\\anaconda3\\lib\\site-packages\\sklearn\\utils\\deprecation.py:87: FutureWarning: Function make_blobs is deprecated; Please import make_blobs directly from scikit-learn\n",
      "  warnings.warn(msg, category=FutureWarning)\n"
     ]
    },
    {
     "name": "stdout",
     "output_type": "stream",
     "text": [
      "Target: [1 1 1 0 0 0 0 0 1 0 1 1 0 0 1 1 0 0 1 1 1 0 0 1 0 1 0 1 0 1 1 0 0 0 1 1 1\n",
      " 1 0 1 0 0 0 1 0 0 0 0 0 1 0 0 0 1 1 0 1 1 1 1 1 1 1 1 1 1 1 0 0 1 1 1 1 1\n",
      " 0 0 0 1 0 0 0 0 1 0 1 0 1 0 1 0 0 1 1 0 0 0 1 1 0 0]\n",
      "X.shape: (100, 2)\n"
     ]
    },
    {
     "data": {
      "image/png": "[encoded data removed]",
      "text/plain": [
       "<Figure size 432x288 with 1 Axes>"
      ]
     },
     "metadata": {
      "needs_background": "light"
     },
     "output_type": "display_data"
    }
   ],
   "source": [
    "X, y = mglearn.datasets.make_blobs()\n",
    "# plot dataset\n",
    "mglearn.discrete_scatter(X[:, 0], X[:, 1], y)\n",
    "plt.legend([\"Class 0\",\"Class 1\"], loc=10)\n",
    "plt.xlabel(\"First feature\")\n",
    "plt.ylabel(\"Second feature\")\n",
    "\n",
    "print(\"Target:\", y)\n",
    "print(\"X.shape: {}\".format(X.shape))"
   ]
  },
  {
   "cell_type": "markdown",
   "id": "9e09e5a2",
   "metadata": {},
   "source": [
    "### Test generate data sendiri"
   ]
  },
  {
   "cell_type": "code",
   "execution_count": 7,
   "id": "44a62ba6",
   "metadata": {},
   "outputs": [
    {
     "name": "stdout",
     "output_type": "stream",
     "text": [
      "Target: [1 1 0 2 0 0 2 2 2 2 1 1 0 0 1 2 1 2 0 1 1 2 0 0 0 0 0 2 1 2 2 1 1 1 0 2 0\n",
      " 2 2 0 2 0 2 2 0 1 2 1 2 1 2 1 2 2 0 0 0 0 0 2 0 2 2 2 2 2 0 1 0 2 1 0 2 1\n",
      " 2 1 1 1 2 1 1 0 0 0 0 2 1 2 2 0 2 1 1 1 1 2 0 1 0 0 1 0 1 1 0 2 2 0 1 1 1\n",
      " 1 0 0 1 0 2 1 0 2 1 0 1 2 0 0 1 0 2 1 2 1 0 0 1 0 0 0 1 0 0 2 1 0 0 2 0 2\n",
      " 0 0 1 1 0 0 0 1 0 2 0 2 1 2 0 1 2 1 2 2 1 2 0 1 2 2 0 2 1 1 1 1 2 2 1 0 2\n",
      " 0 1 2 1 1 1 1 0 1 0 1 2 2 2 1 0 0 1 1 1 2 0 1 0 1 2 0 0 2 1 0 2 0 0 1 1 2\n",
      " 1 2 1 2 0 2 1 1 1 1 1 0 2 2 1 2 2 2 0 1 1 1 2 2 1 0 0 0 2 1 2 2 2 1 2 1 2\n",
      " 1 0 1 0 0 2 1 2 1 1 0 1 2 2 2 0 0 0 1 1 1 0 2 2 2 0 2 1 0 1 1 0 2 0 0 0 0\n",
      " 1 2 0 2 2 0 1 1 0 0 2 1 0 0 2 1 0 1 1 2 0 1 1 1 0 2 1 2 2 0 2 0 2 1 2 2 2\n",
      " 2 1 2 2 0 0 2 0 2 0 0 2 1 1 2 0 2 1 0 0 0 2 2 1 2 1 0 1 1 1 0 1 0 0 0 1 2\n",
      " 2 1 1 2 1 2 2 0 0 2 1 0 1 1 1 2 2 1 2 2 1 1 2 2 2 2 0 0 1 0 0 0 1 2 2 2 1\n",
      " 1 1 1 0 1 0 0 0 0 2 1 0 0 0 0 2 1 2 1 1 2 1 1 0 2 0 0 2 2 0 2 1 1 1 0 1 2\n",
      " 2 1 1 0 1 2 2 2 0 1 2 0 0 0 1 2 0 0 1 2 0 1 2 0 1 2 1 1 0 0 0 0 2 2 1 2 0\n",
      " 1 0 0 2 1 0 0 2 2 2 2 2 2 0 1 0 0 0 2]\n",
      "X.shape: (500, 20)\n"
     ]
    },
    {
     "data": {
      "image/png": "[encoded data removed]",
      "text/plain": [
       "<Figure size 432x288 with 1 Axes>"
      ]
     },
     "metadata": {
      "needs_background": "light"
     },
     "output_type": "display_data"
    }
   ],
   "source": [
    "from sklearn.datasets import make_blobs\n",
    "X, y = make_blobs(n_samples=500, n_features=20, random_state=0)\n",
    "\n",
    "#plot dataset\n",
    "mglearn.discrete_scatter(X[:, 0], X[:, 1], y)\n",
    "plt.legend([\"Class 0\",\"Class 1\", \"Class 2\"], loc=4)\n",
    "plt.xlabel(\"First feature\")\n",
    "plt.ylabel(\"Second feature\")\n",
    "plt.title(\"Test 1\")\n",
    "\n",
    "print(\"Target:\", y)\n",
    "print(\"X.shape: {}\".format(X.shape))"
   ]
  },
  {
   "cell_type": "code",
   "execution_count": 8,
   "id": "78cd5257",
   "metadata": {},
   "outputs": [
    {
     "name": "stdout",
     "output_type": "stream",
     "text": [
      "Target: [1 1 0 2 2 1 0 0 2 1 2 2 2 2 0 1 1 2 0 1 1 2 0 0 0 0 0 2 2 0 1 2 0 0 1 2 1\n",
      " 2 1 2 1 1 1 0 2 0 2 2 0 0 1 1 0 0 1 2 1 0 0 0 2 2 0 1 2 0 2 0 2 0 1 0 1 2\n",
      " 1 1 2 1 0 1 2 1 2 0 0 2 0 2 1 2 1 2 0 0 1 1 1 1 1 0 1 1 2 0 0 2 0 1 2 0 2\n",
      " 2 1 1 0 0 1 0 0 0 2 1 1 1 2 1 1 1 1 0 2 2 0 1 0 1 0 1 2 0 0 1 0 0 2 0 1 0\n",
      " 0 2 2 1 0 1 0 2 0 2 1 0 2 2 0 1 2 2 2 1 2 1 1 2 1 2 1 2 0 2 1 1 0 2 0 1 2\n",
      " 1 0 1 2 2 0 2 1 0 0 2 2 1 2 2 0 2 2 1 1 1 2 0 2 0 1 1 0 2 1 0 0 0 0 2 0 2\n",
      " 0 1 1 2 1 2 0 1 2 1 1 0 0 2 0 0 2 2 2 1 2 1 0 2 0 1 1 2 1 1 1 2 0 1 0 0 2\n",
      " 1 0 1 1 1 0 1 0 2 1 2 1 2 0 1 1 1 0 2 0 2 0 1 0 1 1 2 2 0 0 2 1 0 1 2 0 2\n",
      " 1 2 0 0 0 0 0 0 2 0 0 0 1 1 0 1 2 0 2 0 1 2 0 0 2 2 1 1 2 2 0 2 2 2 1 2 1\n",
      " 1 0 0 2 0 2 1 0 2 1 0 1 0 1 2 2 0 2 2 1 1 2 2 1 1 1 0 2 1 2 2 1 2 0 1 2 2\n",
      " 0 1 0 0 1 0 2 2 0 1 2 2 2 2 2 0 1 0 0 2 2 2 0 1 1 0 1 2 2 1 2 2 1 0 0 1 2\n",
      " 0 0 0 1 0 2 1 0 0 0 0 2 2 1 2 0 1 1 1 2 1 2 0 0 2 2 0 2 2 0 2 2 1 0 0 2 2\n",
      " 2 2 1 0 1 0 2 1 2 2 1 0 1 2 0 0 1 1 2 1 2 1 0 1 2 0 0 2 2 1 2 2 1 1 2 0 2\n",
      " 2 1 1 0 1 0 2 1 2 2 0 1 0 0 2 1 0 2 1 0 2 1 1 1 0 1 1 0 2 2 1 0 2 1 1 0 1\n",
      " 1 0 1 1 2 0 0 2 0 2 0 0 2 0 1 0 2 2 1 0 2 2 2 0 2 0 1 2 0 2 1 0 2 1 2 1 2\n",
      " 1 2 0 1 0 1 0 1 0 0 0 0 2 0 2 0 0 0 2 1 0 2 0 0 2 0 0 0 0 2 0 2 1 1 2 2 1\n",
      " 1 2 2 1 0 0 0 1 1 0 1 1 1 0 0 2 0 2 1 0 0 2 1 1 1 1 0 2 2 1 2 1 2 2 0 1 2\n",
      " 0 1 1 2 1 1 2 2 2 0 1 1 1 0 1 1 1 0 2 2 1 2 0 1 2 1 0 2 1 2 1 1 2 2 0 0 0\n",
      " 0 1 2 1 2 1 2 1 0 0 1 0 0 1 2 0 2 1 1 1 0 1 2 0 0 2 2 2 1 2 0 0 2 1 0 1 1\n",
      " 0 0 0 1 0 1 0 2 1 2 2 1 0 0 2 1 1 1 2 0 0 1 2 1 2 2 2 2 0 0 0 0 1 0 2 0 0\n",
      " 1 0 2 2 2 1 2 1 2 2 0 0 1 1 1 2 1 1 0 1 1 2 0 0 1 0 1 2 1 0 2 2 1 2 1 0 0\n",
      " 0 2 2 1 0 0 1 0 1 0 1 2 0 2 1 1 1 2 0 1 2 2 0]\n",
      "X.shape: (800, 35)\n"
     ]
    },
    {
     "data": {
      "image/png": "[encoded data removed]",
      "text/plain": [
       "<Figure size 432x288 with 1 Axes>"
      ]
     },
     "metadata": {
      "needs_background": "light"
     },
     "output_type": "display_data"
    }
   ],
   "source": [
    "from sklearn.datasets import make_blobs\n",
    "X, y = make_blobs(n_samples=800, n_features=35, random_state=0)\n",
    "\n",
    "#plot dataset\n",
    "mglearn.discrete_scatter(X[:, 0], X[:, 1], y)\n",
    "plt.legend([\"Class 0\",\"Class 1\", \"Class 2\"], loc=4)\n",
    "plt.xlabel(\"First feature\")\n",
    "plt.ylabel(\"Second feature\")\n",
    "plt.title(\"Test 2\")\n",
    "\n",
    "print(\"Target:\", y)\n",
    "print(\"X.shape: {}\".format(X.shape))"
   ]
  },
  {
   "cell_type": "code",
   "execution_count": 9,
   "id": "0191d984",
   "metadata": {},
   "outputs": [
    {
     "data": {
      "text/plain": [
       "Text(0.5, 1.0, 'Test 1')"
      ]
     },
     "execution_count": 9,
     "metadata": {},
     "output_type": "execute_result"
    },
    {
     "data": {
      "image/png": "[encoded data removed]",
      "text/plain": [
       "<Figure size 432x288 with 1 Axes>"
      ]
     },
     "metadata": {
      "needs_background": "light"
     },
     "output_type": "display_data"
    }
   ],
   "source": [
    "X, y = mglearn.datasets.make_wave(n_samples=100)\n",
    "plt.plot(X, y, 'o')\n",
    "plt.ylim(-3,3)\n",
    "plt.xlabel(\"Feature\")\n",
    "plt.ylabel(\"Target\")\n",
    "plt.title(\"Test 1\")\n"
   ]
  },
  {
   "cell_type": "code",
   "execution_count": 10,
   "id": "d68cbb7c",
   "metadata": {},
   "outputs": [
    {
     "data": {
      "text/plain": [
       "Text(0.5, 1.0, 'Test 2')"
      ]
     },
     "execution_count": 10,
     "metadata": {},
     "output_type": "execute_result"
    },
    {
     "data": {
      "image/png": "[encoded data removed]",
      "text/plain": [
       "<Figure size 432x288 with 1 Axes>"
      ]
     },
     "metadata": {
      "needs_background": "light"
     },
     "output_type": "display_data"
    }
   ],
   "source": [
    "X, y = mglearn.datasets.make_wave(n_samples=700)\n",
    "plt.plot(X, y, 'o', color='red')\n",
    "plt.ylim(-3,3)\n",
    "plt.xlabel(\"Feature\")\n",
    "plt.ylabel(\"Target\")\n",
    "plt.title(\"Test 2\")"
   ]
  },
  {
   "cell_type": "markdown",
   "id": "2cba7e1b",
   "metadata": {},
   "source": [
    "#### Wisconsin Breast Cancer Data\n",
    "#### Wisconsin Breast Cancer dataset (cancer, for short), which records clinical measurements of breast cancer tumors. Each tumor is labeled as “benign” (for harmless tumors) or “malignant” (for cancerous tumors)"
   ]
  },
  {
   "cell_type": "code",
   "execution_count": 11,
   "id": "f3c16661",
   "metadata": {},
   "outputs": [
    {
     "name": "stdout",
     "output_type": "stream",
     "text": [
      "cancer.key(): \n",
      "dict_keys(['data', 'target', 'frame', 'target_names', 'DESCR', 'feature_names', 'filename', 'data_module'])\n"
     ]
    }
   ],
   "source": [
    "from sklearn.datasets import load_breast_cancer\n",
    "cancer = load_breast_cancer()\n",
    "print(\"cancer.key(): \\n{}\".format(cancer.keys()))"
   ]
  },
  {
   "cell_type": "code",
   "execution_count": 12,
   "id": "6685f8dd",
   "metadata": {},
   "outputs": [
    {
     "name": "stdout",
     "output_type": "stream",
     "text": [
      "Features names:\n",
      "['mean radius' 'mean texture' 'mean perimeter' 'mean area'\n",
      " 'mean smoothness' 'mean compactness' 'mean concavity'\n",
      " 'mean concave points' 'mean symmetry' 'mean fractal dimension'\n",
      " 'radius error' 'texture error' 'perimeter error' 'area error'\n",
      " 'smoothness error' 'compactness error' 'concavity error'\n",
      " 'concave points error' 'symmetry error' 'fractal dimension error'\n",
      " 'worst radius' 'worst texture' 'worst perimeter' 'worst area'\n",
      " 'worst smoothness' 'worst compactness' 'worst concavity'\n",
      " 'worst concave points' 'worst symmetry' 'worst fractal dimension']\n"
     ]
    }
   ],
   "source": [
    "print(\"Features names:\\n{}\".format(cancer.feature_names))"
   ]
  },
  {
   "cell_type": "code",
   "execution_count": 13,
   "id": "03c611ff",
   "metadata": {},
   "outputs": [
    {
     "name": "stdout",
     "output_type": "stream",
     "text": [
      "Data shape: (506, 13)\n"
     ]
    },
    {
     "name": "stderr",
     "output_type": "stream",
     "text": [
      "C:\\Users\\Darren\\anaconda3\\lib\\site-packages\\sklearn\\utils\\deprecation.py:87: FutureWarning: Function load_boston is deprecated; `load_boston` is deprecated in 1.0 and will be removed in 1.2.\n",
      "\n",
      "    The Boston housing prices dataset has an ethical problem. You can refer to\n",
      "    the documentation of this function for further details.\n",
      "\n",
      "    The scikit-learn maintainers therefore strongly discourage the use of this\n",
      "    dataset unless the purpose of the code is to study and educate about\n",
      "    ethical issues in data science and machine learning.\n",
      "\n",
      "    In this special case, you can fetch the dataset from the original\n",
      "    source::\n",
      "\n",
      "        import pandas as pd\n",
      "        import numpy as np\n",
      "\n",
      "\n",
      "        data_url = \"http://lib.stat.cmu.edu/datasets/boston\"\n",
      "        raw_df = pd.read_csv(data_url, sep=\"\\s+\", skiprows=22, header=None)\n",
      "        data = np.hstack([raw_df.values[::2, :], raw_df.values[1::2, :2]])\n",
      "        target = raw_df.values[1::2, 2]\n",
      "\n",
      "    Alternative datasets include the California housing dataset (i.e.\n",
      "    :func:`~sklearn.datasets.fetch_california_housing`) and the Ames housing\n",
      "    dataset. You can load the datasets as follows::\n",
      "\n",
      "        from sklearn.datasets import fetch_california_housing\n",
      "        housing = fetch_california_housing()\n",
      "\n",
      "    for the California housing dataset and::\n",
      "\n",
      "        from sklearn.datasets import fetch_openml\n",
      "        housing = fetch_openml(name=\"house_prices\", as_frame=True)\n",
      "\n",
      "    for the Ames housing dataset.\n",
      "    \n",
      "  warnings.warn(msg, category=FutureWarning)\n"
     ]
    }
   ],
   "source": [
    "from sklearn.datasets import load_boston\n",
    "boston = load_boston()\n",
    "print(\"Data shape: {}\".format(boston.data.shape))"
   ]
  },
  {
   "cell_type": "code",
   "execution_count": 14,
   "id": "b9d1189f",
   "metadata": {},
   "outputs": [
    {
     "name": "stdout",
     "output_type": "stream",
     "text": [
      "Feature names:\n",
      "['CRIM' 'ZN' 'INDUS' 'CHAS' 'NOX' 'RM' 'AGE' 'DIS' 'RAD' 'TAX' 'PTRATIO'\n",
      " 'B' 'LSTAT']\n"
     ]
    }
   ],
   "source": [
    "print(\"Feature names:\\n{}\".format(boston.feature_names))"
   ]
  },
  {
   "cell_type": "markdown",
   "id": "02fb7294",
   "metadata": {},
   "source": [
    "#### We will not only consider crime rate and highway accessibility as features, but also the product of crime rate and highway accessibility. This derived dataset can be loaded using the load_extended_boston function:"
   ]
  },
  {
   "cell_type": "code",
   "execution_count": 15,
   "id": "e6df1d0a",
   "metadata": {},
   "outputs": [
    {
     "name": "stdout",
     "output_type": "stream",
     "text": [
      "X.shape: (506, 104)\n"
     ]
    }
   ],
   "source": [
    "X, y = mglearn.datasets.load_extended_boston()\n",
    "print(\"X.shape: {}\".format(X.shape))"
   ]
  },
  {
   "cell_type": "markdown",
   "id": "3d3440a9",
   "metadata": {},
   "source": [
    "## K-Nearest Neighbour"
   ]
  },
  {
   "cell_type": "markdown",
   "id": "cdbd1348",
   "metadata": {},
   "source": [
    "#### The k-NN algorithm is arguably the simplest machine learning algorithm. Building the model consists only of storing the training dataset. To make a prediction for a new data point, the algorithm finds the closest data points in the training dataset—its “nearest neighbors.”"
   ]
  },
  {
   "cell_type": "code",
   "execution_count": 16,
   "id": "3c3a905c",
   "metadata": {},
   "outputs": [
    {
     "name": "stderr",
     "output_type": "stream",
     "text": [
      "C:\\Users\\Darren\\anaconda3\\lib\\site-packages\\sklearn\\utils\\deprecation.py:87: FutureWarning: Function make_blobs is deprecated; Please import make_blobs directly from scikit-learn\n",
      "  warnings.warn(msg, category=FutureWarning)\n"
     ]
    },
    {
     "data": {
      "image/png": "[encoded data removed]",
      "text/plain": [
       "<Figure size 432x288 with 1 Axes>"
      ]
     },
     "metadata": {
      "needs_background": "light"
     },
     "output_type": "display_data"
    }
   ],
   "source": [
    "mglearn.plots.plot_knn_classification(n_neighbors=1)"
   ]
  },
  {
   "cell_type": "markdown",
   "id": "8710e6d3",
   "metadata": {},
   "source": [
    "#### Instead of considering only the closest neighbor, we can also consider an arbitrary number, k, of neighbors. This is where the name of the k-nearest neighbors algorithm comes from. Try to change n_neighbors = 3."
   ]
  },
  {
   "cell_type": "code",
   "execution_count": 17,
   "id": "3775dd39",
   "metadata": {},
   "outputs": [
    {
     "name": "stderr",
     "output_type": "stream",
     "text": [
      "C:\\Users\\Darren\\anaconda3\\lib\\site-packages\\sklearn\\utils\\deprecation.py:87: FutureWarning: Function make_blobs is deprecated; Please import make_blobs directly from scikit-learn\n",
      "  warnings.warn(msg, category=FutureWarning)\n"
     ]
    },
    {
     "data": {
      "image/png": "[encoded data removed]",
      "text/plain": [
       "<Figure size 432x288 with 1 Axes>"
      ]
     },
     "metadata": {
      "needs_background": "light"
     },
     "output_type": "display_data"
    }
   ],
   "source": [
    "mglearn.plots.plot_knn_classification(n_neighbors=3)"
   ]
  },
  {
   "cell_type": "code",
   "execution_count": 18,
   "id": "ddb31f00",
   "metadata": {},
   "outputs": [
    {
     "name": "stderr",
     "output_type": "stream",
     "text": [
      "C:\\Users\\Darren\\anaconda3\\lib\\site-packages\\sklearn\\utils\\deprecation.py:87: FutureWarning: Function make_blobs is deprecated; Please import make_blobs directly from scikit-learn\n",
      "  warnings.warn(msg, category=FutureWarning)\n"
     ]
    }
   ],
   "source": [
    "from sklearn.model_selection import train_test_split\n",
    "X, y = mglearn.datasets.make_forge()\n",
    "\n",
    "X_train, X_test, y_train , y_test = train_test_split(X, y, random_state=0)"
   ]
  },
  {
   "cell_type": "markdown",
   "id": "13b6b364",
   "metadata": {},
   "source": [
    "#### import and instantiate the class. This is when we can set parameters, like the number of neighbors to use. Here, we set it to 3."
   ]
  },
  {
   "cell_type": "code",
   "execution_count": 19,
   "id": "c1a83966",
   "metadata": {},
   "outputs": [],
   "source": [
    "from sklearn.neighbors import KNeighborsClassifier\n",
    "clf = KNeighborsClassifier(n_neighbors=3)"
   ]
  },
  {
   "cell_type": "code",
   "execution_count": 20,
   "id": "6453fc07",
   "metadata": {},
   "outputs": [
    {
     "data": {
      "text/plain": [
       "KNeighborsClassifier(n_neighbors=3)"
      ]
     },
     "execution_count": 20,
     "metadata": {},
     "output_type": "execute_result"
    }
   ],
   "source": [
    "clf.fit(X_train, y_train)"
   ]
  },
  {
   "cell_type": "markdown",
   "id": "5e837988",
   "metadata": {},
   "source": [
    "#### To make predictions on the test data, we call the predict method. For each data point in the test set, this computes its nearest neighbors in the training set and finds the most common class among these."
   ]
  },
  {
   "cell_type": "code",
   "execution_count": 21,
   "id": "f28233b2",
   "metadata": {},
   "outputs": [
    {
     "name": "stdout",
     "output_type": "stream",
     "text": [
      "Test set: \n",
      "[[11.54155807  5.21116083]\n",
      " [10.06393839  0.99078055]\n",
      " [ 9.49123469  4.33224792]\n",
      " [ 8.18378052  1.29564214]\n",
      " [ 8.30988863  4.80623966]\n",
      " [10.24028948  2.45544401]\n",
      " [ 8.34468785  1.63824349]] \n",
      "[1 0 1 0 1 1 0]\n",
      "\n",
      "Test set predictions: [1 0 1 0 1 0 0]\n"
     ]
    }
   ],
   "source": [
    "print(\"Test set: \\n{} \\n{}\\n\".format(X_test, y_test))\n",
    "print(\"Test set predictions: {}\".format(clf.predict(X_test)))"
   ]
  },
  {
   "cell_type": "code",
   "execution_count": 22,
   "id": "c6f73411",
   "metadata": {},
   "outputs": [
    {
     "name": "stdout",
     "output_type": "stream",
     "text": [
      "Test set accuracy: 0.86\n"
     ]
    }
   ],
   "source": [
    "print(\"Test set accuracy: {:.2f}\".format(clf.score(X_test, y_test)))"
   ]
  },
  {
   "cell_type": "markdown",
   "id": "ae4f9f48",
   "metadata": {},
   "source": [
    "#### Analyzing KNeighborsClassifier"
   ]
  },
  {
   "cell_type": "code",
   "execution_count": 23,
   "id": "dfa51c33",
   "metadata": {
    "scrolled": true
   },
   "outputs": [
    {
     "data": {
      "text/plain": [
       "<matplotlib.legend.Legend at 0x29aa3e575b0>"
      ]
     },
     "execution_count": 23,
     "metadata": {},
     "output_type": "execute_result"
    },
    {
     "data": {
      "image/png": "[encoded data removed]",
      "text/plain": [
       "<Figure size 720x216 with 3 Axes>"
      ]
     },
     "metadata": {},
     "output_type": "display_data"
    }
   ],
   "source": [
    "fig, axes = plt.subplots(1, 3, figsize=(10,3))\n",
    "\n",
    "for n_neighbors, ax in zip([1, 3, 9], axes):\n",
    "    # the fit method return the object self , so we can instantiate\n",
    "    # and fit in one line\n",
    "    clf = KNeighborsClassifier(n_neighbors=n_neighbors).fit(X,y)\n",
    "    mglearn.plots.plot_2d_separator(clf, X, fill=True, eps=0.5, ax=ax, alpha=.4)\n",
    "    mglearn.discrete_scatter(X[:, 0], X[:, 1], y, ax=ax)\n",
    "    ax.set_title(\"{} neighbor(s)\".format(n_neighbors))\n",
    "    ax.set_xlabel(\"feature 0\")\n",
    "    ax.set_ylabel(\"feature 1\")\n",
    "axes[0].legend(loc=3)"
   ]
  },
  {
   "cell_type": "markdown",
   "id": "11d034d7",
   "metadata": {},
   "source": [
    "#### Let’s investigate whether we can confirm the connection between model complexity and generalization that we discussed earlier. We will do this on the real-world Breast Cancer dataset."
   ]
  },
  {
   "cell_type": "code",
   "execution_count": 24,
   "id": "aab88378",
   "metadata": {
    "scrolled": true
   },
   "outputs": [
    {
     "data": {
      "text/plain": [
       "<matplotlib.legend.Legend at 0x29aa3cf52e0>"
      ]
     },
     "execution_count": 24,
     "metadata": {},
     "output_type": "execute_result"
    },
    {
     "data": {
      "image/png": "[encoded data removed]",
      "text/plain": [
       "<Figure size 432x288 with 1 Axes>"
      ]
     },
     "metadata": {
      "needs_background": "light"
     },
     "output_type": "display_data"
    }
   ],
   "source": [
    "from sklearn.datasets import load_breast_cancer\n",
    "cancer = load_breast_cancer()\n",
    "\n",
    "X_train, X_test, y_train, y_test = train_test_split(cancer.data, cancer.target, stratify=cancer.target, random_state=66)\n",
    "training_accuracy = []\n",
    "test_accuracy = []\n",
    "\n",
    "# try n_neighbors in neighbors from 1 to 10\n",
    "neighbors_settings = range(1, 11)\n",
    "\n",
    "for n_neighbors in neighbors_settings:\n",
    "    # build the model\n",
    "    clf = KNeighborsClassifier(n_neighbors=n_neighbors)\n",
    "    clf.fit(X_train, y_train)\n",
    "    #record training set accuracy\n",
    "    training_accuracy.append(clf.score(X_train, y_train))\n",
    "    #record generalization accuracy\n",
    "    test_accuracy.append(clf.score(X_test, y_test))\n",
    "    \n",
    "plt.plot(neighbors_settings, training_accuracy, label=\"training accuracy\")\n",
    "plt.plot(neighbors_settings, test_accuracy, label=\"test accuracy\")\n",
    "plt.ylabel(\"Accuracy\")\n",
    "plt.xlabel(\"n_neighbors\")\n",
    "plt.legend()"
   ]
  },
  {
   "cell_type": "markdown",
   "id": "38af78b2",
   "metadata": {},
   "source": [
    "### k-Neighbors Regression"
   ]
  },
  {
   "cell_type": "markdown",
   "id": "d0c9179a",
   "metadata": {},
   "source": [
    "#### Let’s start by using the single nearest neighbor, this time using the wave dataset."
   ]
  },
  {
   "cell_type": "code",
   "execution_count": 25,
   "id": "47c2a32a",
   "metadata": {},
   "outputs": [
    {
     "data": {
      "image/png": "[encoded data removed]",
      "text/plain": [
       "<Figure size 720x432 with 1 Axes>"
      ]
     },
     "metadata": {
      "needs_background": "light"
     },
     "output_type": "display_data"
    }
   ],
   "source": [
    "mglearn.plots.plot_knn_regression(n_neighbors=3)"
   ]
  },
  {
   "cell_type": "code",
   "execution_count": 26,
   "id": "b1543f34",
   "metadata": {},
   "outputs": [
    {
     "name": "stdout",
     "output_type": "stream",
     "text": [
      "Test set: \n",
      "[[-1.24713211]\n",
      " [ 0.67111737]\n",
      " [ 1.71105577]\n",
      " [-2.06388816]\n",
      " [-2.87649303]\n",
      " [-1.89957294]\n",
      " [ 0.55448741]\n",
      " [ 2.81945911]\n",
      " [-0.40832989]\n",
      " [-2.72129752]] \n",
      "[ 0.37299129  0.21778193  0.96695428 -1.38773632 -1.05979555 -0.90496988\n",
      "  0.43655826  0.7789638  -0.54114599 -0.95652133]\n",
      "\n",
      "Test set predictions: \n",
      "[-0.05396539  0.35686046  1.13671923 -1.89415682 -1.13881398 -1.63113382\n",
      "  0.35686046  0.91241374 -0.44680446 -1.13881398]\n"
     ]
    }
   ],
   "source": [
    "from sklearn.neighbors import KNeighborsRegressor\n",
    "X, y = mglearn.datasets.make_wave(n_samples=40)\n",
    "\n",
    "# split the wave dataset into a training and a test set\n",
    "X_train, X_test, y_train, y_test = train_test_split(X, y, random_state=0)\n",
    "\n",
    "# instantiate the model an set the number of neighbors to consider to 3\n",
    "reg = KNeighborsRegressor(n_neighbors=3)\n",
    "\n",
    "# fit the model using the trainign data and training targets\n",
    "reg.fit(X_train, y_train)\n",
    "\n",
    "print(\"Test set: \\n{} \\n{}\\n\".format(X_test, y_test))\n",
    "print(\"Test set predictions: \\n{}\".format(reg.predict(X_test)))"
   ]
  },
  {
   "cell_type": "code",
   "execution_count": 27,
   "id": "9ee34947",
   "metadata": {},
   "outputs": [
    {
     "name": "stdout",
     "output_type": "stream",
     "text": [
      "Test set R^2: 0.83\n"
     ]
    }
   ],
   "source": [
    "print(\"Test set R^2: {:.2f}\".format(reg.score(X_test, y_test)))"
   ]
  },
  {
   "cell_type": "markdown",
   "id": "597372ef",
   "metadata": {},
   "source": [
    "#### Value of 1 corresponds to a perfect prediction, and a value of 0 corresponds to a constant model that just predicts the mean of the training set responses."
   ]
  },
  {
   "cell_type": "markdown",
   "id": "d861802a",
   "metadata": {},
   "source": [
    "### Analyzing KNeighborsRegressor"
   ]
  },
  {
   "cell_type": "markdown",
   "id": "94360505",
   "metadata": {},
   "source": [
    "#### The k-nearest neighbors classification algorithm is implemented in the KNeighborsClassifier class in the neighbors module. Before we can use the model, we need to instantiate the class into an object. This is when we will set any parameters of the model."
   ]
  },
  {
   "cell_type": "code",
   "execution_count": 28,
   "id": "ac162521",
   "metadata": {},
   "outputs": [
    {
     "data": {
      "text/plain": [
       "<matplotlib.legend.Legend at 0x29aa3f29a00>"
      ]
     },
     "execution_count": 28,
     "metadata": {},
     "output_type": "execute_result"
    },
    {
     "data": {
      "image/png": "[encoded data removed]",
      "text/plain": [
       "<Figure size 1080x288 with 3 Axes>"
      ]
     },
     "metadata": {
      "needs_background": "light"
     },
     "output_type": "display_data"
    }
   ],
   "source": [
    "fig, axes = plt.subplots( 1, 3, figsize=(15,4))\n",
    "# create 1000 data points, evenly spaced between -3 and 3\n",
    "line = np.linspace(-3, 3, 1000).reshape( -1, 1)\n",
    "\n",
    "for n_neighbors, ax in zip([1, 3, 9], axes):\n",
    "    # make predictions using 1, 3, or 9 neighbors\n",
    "    reg = KNeighborsRegressor(n_neighbors=n_neighbors)\n",
    "    reg.fit(X_train, y_train)\n",
    "    ax.plot(line, reg.predict(line))\n",
    "    ax.plot(X_train, y_train, '^', c=mglearn.cm2(0), markersize=8)\n",
    "    ax.plot(X_test, y_test, 'v',c=mglearn.cm2(1), markersize=8)\n",
    "    ax.set_title(\"{} neighbors(s)\\n train score: {:.2f} test score: {:.2f}\".format(\n",
    "    n_neighbors, reg.score(X_train, y_train),\n",
    "    reg.score(X_test, y_test)))\n",
    "    ax.set_xlabel(\"Feature\")\n",
    "    ax.set_ylabel(\"Target\")\n",
    "\n",
    "axes[0].legend([\"Model predictions\", \"Training data/target\",\n",
    "               \"Test data/target\"], loc=\"best\")"
   ]
  },
  {
   "cell_type": "markdown",
   "id": "1a24d20b",
   "metadata": {},
   "source": [
    "## Challenge Dataset Sendiri"
   ]
  },
  {
   "cell_type": "code",
   "execution_count": 67,
   "id": "5161feac",
   "metadata": {},
   "outputs": [],
   "source": [
    "import pandas as pd\n",
    "import numpy as np"
   ]
  },
  {
   "cell_type": "code",
   "execution_count": 68,
   "id": "df857641",
   "metadata": {},
   "outputs": [
    {
     "data": {
      "text/html": [
       "<div>\n",
       "<style scoped>\n",
       "    .dataframe tbody tr th:only-of-type {\n",
       "        vertical-align: middle;\n",
       "    }\n",
       "\n",
       "    .dataframe tbody tr th {\n",
       "        vertical-align: top;\n",
       "    }\n",
       "\n",
       "    .dataframe thead th {\n",
       "        text-align: right;\n",
       "    }\n",
       "</style>\n",
       "<table border=\"1\" class=\"dataframe\">\n",
       "  <thead>\n",
       "    <tr style=\"text-align: right;\">\n",
       "      <th></th>\n",
       "      <th>Date</th>\n",
       "      <th>Time</th>\n",
       "      <th>CO(GT)</th>\n",
       "      <th>PT08.S1(CO)</th>\n",
       "      <th>NMHC(GT)</th>\n",
       "      <th>C6H6(GT)</th>\n",
       "      <th>PT08.S2(NMHC)</th>\n",
       "      <th>NOx(GT)</th>\n",
       "      <th>PT08.S3(NOx)</th>\n",
       "      <th>NO2(GT)</th>\n",
       "      <th>PT08.S4(NO2)</th>\n",
       "      <th>PT08.S5(O3)</th>\n",
       "      <th>T</th>\n",
       "      <th>RH</th>\n",
       "      <th>AH</th>\n",
       "      <th>Unnamed: 15</th>\n",
       "      <th>Unnamed: 16</th>\n",
       "    </tr>\n",
       "  </thead>\n",
       "  <tbody>\n",
       "    <tr>\n",
       "      <th>0</th>\n",
       "      <td>10/03/2004</td>\n",
       "      <td>18.00.00</td>\n",
       "      <td>2,6</td>\n",
       "      <td>1360.0</td>\n",
       "      <td>150.0</td>\n",
       "      <td>11,9</td>\n",
       "      <td>1046.0</td>\n",
       "      <td>166.0</td>\n",
       "      <td>1056.0</td>\n",
       "      <td>113.0</td>\n",
       "      <td>1692.0</td>\n",
       "      <td>1268.0</td>\n",
       "      <td>13,6</td>\n",
       "      <td>48,9</td>\n",
       "      <td>0,7578</td>\n",
       "      <td>NaN</td>\n",
       "      <td>NaN</td>\n",
       "    </tr>\n",
       "    <tr>\n",
       "      <th>1</th>\n",
       "      <td>10/03/2004</td>\n",
       "      <td>19.00.00</td>\n",
       "      <td>2</td>\n",
       "      <td>1292.0</td>\n",
       "      <td>112.0</td>\n",
       "      <td>9,4</td>\n",
       "      <td>955.0</td>\n",
       "      <td>103.0</td>\n",
       "      <td>1174.0</td>\n",
       "      <td>92.0</td>\n",
       "      <td>1559.0</td>\n",
       "      <td>972.0</td>\n",
       "      <td>13,3</td>\n",
       "      <td>47,7</td>\n",
       "      <td>0,7255</td>\n",
       "      <td>NaN</td>\n",
       "      <td>NaN</td>\n",
       "    </tr>\n",
       "    <tr>\n",
       "      <th>2</th>\n",
       "      <td>10/03/2004</td>\n",
       "      <td>20.00.00</td>\n",
       "      <td>2,2</td>\n",
       "      <td>1402.0</td>\n",
       "      <td>88.0</td>\n",
       "      <td>9,0</td>\n",
       "      <td>939.0</td>\n",
       "      <td>131.0</td>\n",
       "      <td>1140.0</td>\n",
       "      <td>114.0</td>\n",
       "      <td>1555.0</td>\n",
       "      <td>1074.0</td>\n",
       "      <td>11,9</td>\n",
       "      <td>54,0</td>\n",
       "      <td>0,7502</td>\n",
       "      <td>NaN</td>\n",
       "      <td>NaN</td>\n",
       "    </tr>\n",
       "    <tr>\n",
       "      <th>3</th>\n",
       "      <td>10/03/2004</td>\n",
       "      <td>21.00.00</td>\n",
       "      <td>2,2</td>\n",
       "      <td>1376.0</td>\n",
       "      <td>80.0</td>\n",
       "      <td>9,2</td>\n",
       "      <td>948.0</td>\n",
       "      <td>172.0</td>\n",
       "      <td>1092.0</td>\n",
       "      <td>122.0</td>\n",
       "      <td>1584.0</td>\n",
       "      <td>1203.0</td>\n",
       "      <td>11,0</td>\n",
       "      <td>60,0</td>\n",
       "      <td>0,7867</td>\n",
       "      <td>NaN</td>\n",
       "      <td>NaN</td>\n",
       "    </tr>\n",
       "    <tr>\n",
       "      <th>4</th>\n",
       "      <td>10/03/2004</td>\n",
       "      <td>22.00.00</td>\n",
       "      <td>1,6</td>\n",
       "      <td>1272.0</td>\n",
       "      <td>51.0</td>\n",
       "      <td>6,5</td>\n",
       "      <td>836.0</td>\n",
       "      <td>131.0</td>\n",
       "      <td>1205.0</td>\n",
       "      <td>116.0</td>\n",
       "      <td>1490.0</td>\n",
       "      <td>1110.0</td>\n",
       "      <td>11,2</td>\n",
       "      <td>59,6</td>\n",
       "      <td>0,7888</td>\n",
       "      <td>NaN</td>\n",
       "      <td>NaN</td>\n",
       "    </tr>\n",
       "    <tr>\n",
       "      <th>5</th>\n",
       "      <td>10/03/2004</td>\n",
       "      <td>23.00.00</td>\n",
       "      <td>1,2</td>\n",
       "      <td>1197.0</td>\n",
       "      <td>38.0</td>\n",
       "      <td>4,7</td>\n",
       "      <td>750.0</td>\n",
       "      <td>89.0</td>\n",
       "      <td>1337.0</td>\n",
       "      <td>96.0</td>\n",
       "      <td>1393.0</td>\n",
       "      <td>949.0</td>\n",
       "      <td>11,2</td>\n",
       "      <td>59,2</td>\n",
       "      <td>0,7848</td>\n",
       "      <td>NaN</td>\n",
       "      <td>NaN</td>\n",
       "    </tr>\n",
       "    <tr>\n",
       "      <th>6</th>\n",
       "      <td>11/03/2004</td>\n",
       "      <td>00.00.00</td>\n",
       "      <td>1,2</td>\n",
       "      <td>1185.0</td>\n",
       "      <td>31.0</td>\n",
       "      <td>3,6</td>\n",
       "      <td>690.0</td>\n",
       "      <td>62.0</td>\n",
       "      <td>1462.0</td>\n",
       "      <td>77.0</td>\n",
       "      <td>1333.0</td>\n",
       "      <td>733.0</td>\n",
       "      <td>11,3</td>\n",
       "      <td>56,8</td>\n",
       "      <td>0,7603</td>\n",
       "      <td>NaN</td>\n",
       "      <td>NaN</td>\n",
       "    </tr>\n",
       "    <tr>\n",
       "      <th>7</th>\n",
       "      <td>11/03/2004</td>\n",
       "      <td>01.00.00</td>\n",
       "      <td>1</td>\n",
       "      <td>1136.0</td>\n",
       "      <td>31.0</td>\n",
       "      <td>3,3</td>\n",
       "      <td>672.0</td>\n",
       "      <td>62.0</td>\n",
       "      <td>1453.0</td>\n",
       "      <td>76.0</td>\n",
       "      <td>1333.0</td>\n",
       "      <td>730.0</td>\n",
       "      <td>10,7</td>\n",
       "      <td>60,0</td>\n",
       "      <td>0,7702</td>\n",
       "      <td>NaN</td>\n",
       "      <td>NaN</td>\n",
       "    </tr>\n",
       "    <tr>\n",
       "      <th>8</th>\n",
       "      <td>11/03/2004</td>\n",
       "      <td>02.00.00</td>\n",
       "      <td>0,9</td>\n",
       "      <td>1094.0</td>\n",
       "      <td>24.0</td>\n",
       "      <td>2,3</td>\n",
       "      <td>609.0</td>\n",
       "      <td>45.0</td>\n",
       "      <td>1579.0</td>\n",
       "      <td>60.0</td>\n",
       "      <td>1276.0</td>\n",
       "      <td>620.0</td>\n",
       "      <td>10,7</td>\n",
       "      <td>59,7</td>\n",
       "      <td>0,7648</td>\n",
       "      <td>NaN</td>\n",
       "      <td>NaN</td>\n",
       "    </tr>\n",
       "    <tr>\n",
       "      <th>9</th>\n",
       "      <td>11/03/2004</td>\n",
       "      <td>03.00.00</td>\n",
       "      <td>0,6</td>\n",
       "      <td>1010.0</td>\n",
       "      <td>19.0</td>\n",
       "      <td>1,7</td>\n",
       "      <td>561.0</td>\n",
       "      <td>-200.0</td>\n",
       "      <td>1705.0</td>\n",
       "      <td>-200.0</td>\n",
       "      <td>1235.0</td>\n",
       "      <td>501.0</td>\n",
       "      <td>10,3</td>\n",
       "      <td>60,2</td>\n",
       "      <td>0,7517</td>\n",
       "      <td>NaN</td>\n",
       "      <td>NaN</td>\n",
       "    </tr>\n",
       "  </tbody>\n",
       "</table>\n",
       "</div>"
      ],
      "text/plain": [
       "         Date      Time CO(GT)  PT08.S1(CO)  NMHC(GT) C6H6(GT)  PT08.S2(NMHC)  \\\n",
       "0  10/03/2004  18.00.00    2,6       1360.0     150.0     11,9         1046.0   \n",
       "1  10/03/2004  19.00.00      2       1292.0     112.0      9,4          955.0   \n",
       "2  10/03/2004  20.00.00    2,2       1402.0      88.0      9,0          939.0   \n",
       "3  10/03/2004  21.00.00    2,2       1376.0      80.0      9,2          948.0   \n",
       "4  10/03/2004  22.00.00    1,6       1272.0      51.0      6,5          836.0   \n",
       "5  10/03/2004  23.00.00    1,2       1197.0      38.0      4,7          750.0   \n",
       "6  11/03/2004  00.00.00    1,2       1185.0      31.0      3,6          690.0   \n",
       "7  11/03/2004  01.00.00      1       1136.0      31.0      3,3          672.0   \n",
       "8  11/03/2004  02.00.00    0,9       1094.0      24.0      2,3          609.0   \n",
       "9  11/03/2004  03.00.00    0,6       1010.0      19.0      1,7          561.0   \n",
       "\n",
       "   NOx(GT)  PT08.S3(NOx)  NO2(GT)  PT08.S4(NO2)  PT08.S5(O3)     T    RH  \\\n",
       "0    166.0        1056.0    113.0        1692.0       1268.0  13,6  48,9   \n",
       "1    103.0        1174.0     92.0        1559.0        972.0  13,3  47,7   \n",
       "2    131.0        1140.0    114.0        1555.0       1074.0  11,9  54,0   \n",
       "3    172.0        1092.0    122.0        1584.0       1203.0  11,0  60,0   \n",
       "4    131.0        1205.0    116.0        1490.0       1110.0  11,2  59,6   \n",
       "5     89.0        1337.0     96.0        1393.0        949.0  11,2  59,2   \n",
       "6     62.0        1462.0     77.0        1333.0        733.0  11,3  56,8   \n",
       "7     62.0        1453.0     76.0        1333.0        730.0  10,7  60,0   \n",
       "8     45.0        1579.0     60.0        1276.0        620.0  10,7  59,7   \n",
       "9   -200.0        1705.0   -200.0        1235.0        501.0  10,3  60,2   \n",
       "\n",
       "       AH  Unnamed: 15  Unnamed: 16  \n",
       "0  0,7578          NaN          NaN  \n",
       "1  0,7255          NaN          NaN  \n",
       "2  0,7502          NaN          NaN  \n",
       "3  0,7867          NaN          NaN  \n",
       "4  0,7888          NaN          NaN  \n",
       "5  0,7848          NaN          NaN  \n",
       "6  0,7603          NaN          NaN  \n",
       "7  0,7702          NaN          NaN  \n",
       "8  0,7648          NaN          NaN  \n",
       "9  0,7517          NaN          NaN  "
      ]
     },
     "execution_count": 68,
     "metadata": {},
     "output_type": "execute_result"
    }
   ],
   "source": [
    "angin = pd.read_csv(r\"D:\\SEMESTER 4\\IF540 Machine Learning\\LAB\\week6\\AirQuality.csv\", delimiter=';')\n",
    "angin.head(10)"
   ]
  },
  {
   "cell_type": "code",
   "execution_count": 69,
   "id": "77928ff9",
   "metadata": {},
   "outputs": [
    {
     "name": "stdout",
     "output_type": "stream",
     "text": [
      "<class 'pandas.core.frame.DataFrame'>\n",
      "RangeIndex: 9471 entries, 0 to 9470\n",
      "Data columns (total 17 columns):\n",
      " #   Column         Non-Null Count  Dtype  \n",
      "---  ------         --------------  -----  \n",
      " 0   Date           9357 non-null   object \n",
      " 1   Time           9357 non-null   object \n",
      " 2   CO(GT)         9357 non-null   object \n",
      " 3   PT08.S1(CO)    9357 non-null   float64\n",
      " 4   NMHC(GT)       9357 non-null   float64\n",
      " 5   C6H6(GT)       9357 non-null   object \n",
      " 6   PT08.S2(NMHC)  9357 non-null   float64\n",
      " 7   NOx(GT)        9357 non-null   float64\n",
      " 8   PT08.S3(NOx)   9357 non-null   float64\n",
      " 9   NO2(GT)        9357 non-null   float64\n",
      " 10  PT08.S4(NO2)   9357 non-null   float64\n",
      " 11  PT08.S5(O3)    9357 non-null   float64\n",
      " 12  T              9357 non-null   object \n",
      " 13  RH             9357 non-null   object \n",
      " 14  AH             9357 non-null   object \n",
      " 15  Unnamed: 15    0 non-null      float64\n",
      " 16  Unnamed: 16    0 non-null      float64\n",
      "dtypes: float64(10), object(7)\n",
      "memory usage: 1.2+ MB\n"
     ]
    }
   ],
   "source": [
    "angin.shape\n",
    "angin.info()"
   ]
  },
  {
   "cell_type": "code",
   "execution_count": 70,
   "id": "37f5f1c2",
   "metadata": {},
   "outputs": [
    {
     "data": {
      "text/plain": [
       "True"
      ]
     },
     "execution_count": 70,
     "metadata": {},
     "output_type": "execute_result"
    }
   ],
   "source": [
    "angin.isnull().values.any()"
   ]
  },
  {
   "cell_type": "code",
   "execution_count": 71,
   "id": "a6ce0d96",
   "metadata": {},
   "outputs": [
    {
     "data": {
      "text/plain": [
       "Date              114\n",
       "Time              114\n",
       "CO(GT)            114\n",
       "PT08.S1(CO)       114\n",
       "NMHC(GT)          114\n",
       "C6H6(GT)          114\n",
       "PT08.S2(NMHC)     114\n",
       "NOx(GT)           114\n",
       "PT08.S3(NOx)      114\n",
       "NO2(GT)           114\n",
       "PT08.S4(NO2)      114\n",
       "PT08.S5(O3)       114\n",
       "T                 114\n",
       "RH                114\n",
       "AH                114\n",
       "Unnamed: 15      9471\n",
       "Unnamed: 16      9471\n",
       "dtype: int64"
      ]
     },
     "execution_count": 71,
     "metadata": {},
     "output_type": "execute_result"
    }
   ],
   "source": [
    "angin.isnull().sum()"
   ]
  },
  {
   "cell_type": "code",
   "execution_count": 84,
   "id": "93ee5ee0",
   "metadata": {},
   "outputs": [
    {
     "data": {
      "text/html": [
       "<div>\n",
       "<style scoped>\n",
       "    .dataframe tbody tr th:only-of-type {\n",
       "        vertical-align: middle;\n",
       "    }\n",
       "\n",
       "    .dataframe tbody tr th {\n",
       "        vertical-align: top;\n",
       "    }\n",
       "\n",
       "    .dataframe thead th {\n",
       "        text-align: right;\n",
       "    }\n",
       "</style>\n",
       "<table border=\"1\" class=\"dataframe\">\n",
       "  <thead>\n",
       "    <tr style=\"text-align: right;\">\n",
       "      <th></th>\n",
       "      <th>Date</th>\n",
       "      <th>Time</th>\n",
       "      <th>CO(GT)</th>\n",
       "      <th>PT08.S1(CO)</th>\n",
       "      <th>NMHC(GT)</th>\n",
       "      <th>C6H6(GT)</th>\n",
       "      <th>PT08.S2(NMHC)</th>\n",
       "      <th>NOx(GT)</th>\n",
       "      <th>PT08.S3(NOx)</th>\n",
       "      <th>NO2(GT)</th>\n",
       "      <th>PT08.S4(NO2)</th>\n",
       "      <th>PT08.S5(O3)</th>\n",
       "      <th>T</th>\n",
       "      <th>RH</th>\n",
       "      <th>AH</th>\n",
       "    </tr>\n",
       "  </thead>\n",
       "  <tbody>\n",
       "    <tr>\n",
       "      <th>0</th>\n",
       "      <td>10/03/2004</td>\n",
       "      <td>18.00.00</td>\n",
       "      <td>2,6</td>\n",
       "      <td>1360.0</td>\n",
       "      <td>150.0</td>\n",
       "      <td>11,9</td>\n",
       "      <td>1046.0</td>\n",
       "      <td>166.0</td>\n",
       "      <td>1056.0</td>\n",
       "      <td>113.0</td>\n",
       "      <td>1692.0</td>\n",
       "      <td>1268.0</td>\n",
       "      <td>13,6</td>\n",
       "      <td>48,9</td>\n",
       "      <td>0,7578</td>\n",
       "    </tr>\n",
       "    <tr>\n",
       "      <th>1</th>\n",
       "      <td>10/03/2004</td>\n",
       "      <td>19.00.00</td>\n",
       "      <td>2</td>\n",
       "      <td>1292.0</td>\n",
       "      <td>112.0</td>\n",
       "      <td>9,4</td>\n",
       "      <td>955.0</td>\n",
       "      <td>103.0</td>\n",
       "      <td>1174.0</td>\n",
       "      <td>92.0</td>\n",
       "      <td>1559.0</td>\n",
       "      <td>972.0</td>\n",
       "      <td>13,3</td>\n",
       "      <td>47,7</td>\n",
       "      <td>0,7255</td>\n",
       "    </tr>\n",
       "    <tr>\n",
       "      <th>2</th>\n",
       "      <td>10/03/2004</td>\n",
       "      <td>20.00.00</td>\n",
       "      <td>2,2</td>\n",
       "      <td>1402.0</td>\n",
       "      <td>88.0</td>\n",
       "      <td>9,0</td>\n",
       "      <td>939.0</td>\n",
       "      <td>131.0</td>\n",
       "      <td>1140.0</td>\n",
       "      <td>114.0</td>\n",
       "      <td>1555.0</td>\n",
       "      <td>1074.0</td>\n",
       "      <td>11,9</td>\n",
       "      <td>54,0</td>\n",
       "      <td>0,7502</td>\n",
       "    </tr>\n",
       "    <tr>\n",
       "      <th>3</th>\n",
       "      <td>10/03/2004</td>\n",
       "      <td>21.00.00</td>\n",
       "      <td>2,2</td>\n",
       "      <td>1376.0</td>\n",
       "      <td>80.0</td>\n",
       "      <td>9,2</td>\n",
       "      <td>948.0</td>\n",
       "      <td>172.0</td>\n",
       "      <td>1092.0</td>\n",
       "      <td>122.0</td>\n",
       "      <td>1584.0</td>\n",
       "      <td>1203.0</td>\n",
       "      <td>11,0</td>\n",
       "      <td>60,0</td>\n",
       "      <td>0,7867</td>\n",
       "    </tr>\n",
       "    <tr>\n",
       "      <th>4</th>\n",
       "      <td>10/03/2004</td>\n",
       "      <td>22.00.00</td>\n",
       "      <td>1,6</td>\n",
       "      <td>1272.0</td>\n",
       "      <td>51.0</td>\n",
       "      <td>6,5</td>\n",
       "      <td>836.0</td>\n",
       "      <td>131.0</td>\n",
       "      <td>1205.0</td>\n",
       "      <td>116.0</td>\n",
       "      <td>1490.0</td>\n",
       "      <td>1110.0</td>\n",
       "      <td>11,2</td>\n",
       "      <td>59,6</td>\n",
       "      <td>0,7888</td>\n",
       "    </tr>\n",
       "  </tbody>\n",
       "</table>\n",
       "</div>"
      ],
      "text/plain": [
       "         Date      Time CO(GT)  PT08.S1(CO)  NMHC(GT) C6H6(GT)  PT08.S2(NMHC)  \\\n",
       "0  10/03/2004  18.00.00    2,6       1360.0     150.0     11,9         1046.0   \n",
       "1  10/03/2004  19.00.00      2       1292.0     112.0      9,4          955.0   \n",
       "2  10/03/2004  20.00.00    2,2       1402.0      88.0      9,0          939.0   \n",
       "3  10/03/2004  21.00.00    2,2       1376.0      80.0      9,2          948.0   \n",
       "4  10/03/2004  22.00.00    1,6       1272.0      51.0      6,5          836.0   \n",
       "\n",
       "   NOx(GT)  PT08.S3(NOx)  NO2(GT)  PT08.S4(NO2)  PT08.S5(O3)     T    RH  \\\n",
       "0    166.0        1056.0    113.0        1692.0       1268.0  13,6  48,9   \n",
       "1    103.0        1174.0     92.0        1559.0        972.0  13,3  47,7   \n",
       "2    131.0        1140.0    114.0        1555.0       1074.0  11,9  54,0   \n",
       "3    172.0        1092.0    122.0        1584.0       1203.0  11,0  60,0   \n",
       "4    131.0        1205.0    116.0        1490.0       1110.0  11,2  59,6   \n",
       "\n",
       "       AH  \n",
       "0  0,7578  \n",
       "1  0,7255  \n",
       "2  0,7502  \n",
       "3  0,7867  \n",
       "4  0,7888  "
      ]
     },
     "execution_count": 84,
     "metadata": {},
     "output_type": "execute_result"
    }
   ],
   "source": [
    "angin = angin.dropna()\n",
    "angin.head(5)"
   ]
  },
  {
   "cell_type": "code",
   "execution_count": 85,
   "id": "23d8bb7f",
   "metadata": {},
   "outputs": [
    {
     "data": {
      "text/html": [
       "<div>\n",
       "<style scoped>\n",
       "    .dataframe tbody tr th:only-of-type {\n",
       "        vertical-align: middle;\n",
       "    }\n",
       "\n",
       "    .dataframe tbody tr th {\n",
       "        vertical-align: top;\n",
       "    }\n",
       "\n",
       "    .dataframe thead th {\n",
       "        text-align: right;\n",
       "    }\n",
       "</style>\n",
       "<table border=\"1\" class=\"dataframe\">\n",
       "  <thead>\n",
       "    <tr style=\"text-align: right;\">\n",
       "      <th></th>\n",
       "      <th>PT08.S1(CO)</th>\n",
       "      <th>NMHC(GT)</th>\n",
       "      <th>PT08.S2(NMHC)</th>\n",
       "      <th>NOx(GT)</th>\n",
       "      <th>PT08.S3(NOx)</th>\n",
       "      <th>NO2(GT)</th>\n",
       "      <th>PT08.S4(NO2)</th>\n",
       "      <th>PT08.S5(O3)</th>\n",
       "    </tr>\n",
       "  </thead>\n",
       "  <tbody>\n",
       "    <tr>\n",
       "      <th>0</th>\n",
       "      <td>1360.0</td>\n",
       "      <td>150.0</td>\n",
       "      <td>1046.0</td>\n",
       "      <td>166.0</td>\n",
       "      <td>1056.0</td>\n",
       "      <td>113.0</td>\n",
       "      <td>1692.0</td>\n",
       "      <td>1268.0</td>\n",
       "    </tr>\n",
       "    <tr>\n",
       "      <th>1</th>\n",
       "      <td>1292.0</td>\n",
       "      <td>112.0</td>\n",
       "      <td>955.0</td>\n",
       "      <td>103.0</td>\n",
       "      <td>1174.0</td>\n",
       "      <td>92.0</td>\n",
       "      <td>1559.0</td>\n",
       "      <td>972.0</td>\n",
       "    </tr>\n",
       "    <tr>\n",
       "      <th>2</th>\n",
       "      <td>1402.0</td>\n",
       "      <td>88.0</td>\n",
       "      <td>939.0</td>\n",
       "      <td>131.0</td>\n",
       "      <td>1140.0</td>\n",
       "      <td>114.0</td>\n",
       "      <td>1555.0</td>\n",
       "      <td>1074.0</td>\n",
       "    </tr>\n",
       "    <tr>\n",
       "      <th>3</th>\n",
       "      <td>1376.0</td>\n",
       "      <td>80.0</td>\n",
       "      <td>948.0</td>\n",
       "      <td>172.0</td>\n",
       "      <td>1092.0</td>\n",
       "      <td>122.0</td>\n",
       "      <td>1584.0</td>\n",
       "      <td>1203.0</td>\n",
       "    </tr>\n",
       "    <tr>\n",
       "      <th>4</th>\n",
       "      <td>1272.0</td>\n",
       "      <td>51.0</td>\n",
       "      <td>836.0</td>\n",
       "      <td>131.0</td>\n",
       "      <td>1205.0</td>\n",
       "      <td>116.0</td>\n",
       "      <td>1490.0</td>\n",
       "      <td>1110.0</td>\n",
       "    </tr>\n",
       "    <tr>\n",
       "      <th>...</th>\n",
       "      <td>...</td>\n",
       "      <td>...</td>\n",
       "      <td>...</td>\n",
       "      <td>...</td>\n",
       "      <td>...</td>\n",
       "      <td>...</td>\n",
       "      <td>...</td>\n",
       "      <td>...</td>\n",
       "    </tr>\n",
       "    <tr>\n",
       "      <th>9352</th>\n",
       "      <td>1314.0</td>\n",
       "      <td>-200.0</td>\n",
       "      <td>1101.0</td>\n",
       "      <td>472.0</td>\n",
       "      <td>539.0</td>\n",
       "      <td>190.0</td>\n",
       "      <td>1374.0</td>\n",
       "      <td>1729.0</td>\n",
       "    </tr>\n",
       "    <tr>\n",
       "      <th>9353</th>\n",
       "      <td>1163.0</td>\n",
       "      <td>-200.0</td>\n",
       "      <td>1027.0</td>\n",
       "      <td>353.0</td>\n",
       "      <td>604.0</td>\n",
       "      <td>179.0</td>\n",
       "      <td>1264.0</td>\n",
       "      <td>1269.0</td>\n",
       "    </tr>\n",
       "    <tr>\n",
       "      <th>9354</th>\n",
       "      <td>1142.0</td>\n",
       "      <td>-200.0</td>\n",
       "      <td>1063.0</td>\n",
       "      <td>293.0</td>\n",
       "      <td>603.0</td>\n",
       "      <td>175.0</td>\n",
       "      <td>1241.0</td>\n",
       "      <td>1092.0</td>\n",
       "    </tr>\n",
       "    <tr>\n",
       "      <th>9355</th>\n",
       "      <td>1003.0</td>\n",
       "      <td>-200.0</td>\n",
       "      <td>961.0</td>\n",
       "      <td>235.0</td>\n",
       "      <td>702.0</td>\n",
       "      <td>156.0</td>\n",
       "      <td>1041.0</td>\n",
       "      <td>770.0</td>\n",
       "    </tr>\n",
       "    <tr>\n",
       "      <th>9356</th>\n",
       "      <td>1071.0</td>\n",
       "      <td>-200.0</td>\n",
       "      <td>1047.0</td>\n",
       "      <td>265.0</td>\n",
       "      <td>654.0</td>\n",
       "      <td>168.0</td>\n",
       "      <td>1129.0</td>\n",
       "      <td>816.0</td>\n",
       "    </tr>\n",
       "  </tbody>\n",
       "</table>\n",
       "<p>9357 rows × 8 columns</p>\n",
       "</div>"
      ],
      "text/plain": [
       "      PT08.S1(CO)  NMHC(GT)  PT08.S2(NMHC)  NOx(GT)  PT08.S3(NOx)  NO2(GT)  \\\n",
       "0          1360.0     150.0         1046.0    166.0        1056.0    113.0   \n",
       "1          1292.0     112.0          955.0    103.0        1174.0     92.0   \n",
       "2          1402.0      88.0          939.0    131.0        1140.0    114.0   \n",
       "3          1376.0      80.0          948.0    172.0        1092.0    122.0   \n",
       "4          1272.0      51.0          836.0    131.0        1205.0    116.0   \n",
       "...           ...       ...            ...      ...           ...      ...   \n",
       "9352       1314.0    -200.0         1101.0    472.0         539.0    190.0   \n",
       "9353       1163.0    -200.0         1027.0    353.0         604.0    179.0   \n",
       "9354       1142.0    -200.0         1063.0    293.0         603.0    175.0   \n",
       "9355       1003.0    -200.0          961.0    235.0         702.0    156.0   \n",
       "9356       1071.0    -200.0         1047.0    265.0         654.0    168.0   \n",
       "\n",
       "      PT08.S4(NO2)  PT08.S5(O3)  \n",
       "0           1692.0       1268.0  \n",
       "1           1559.0        972.0  \n",
       "2           1555.0       1074.0  \n",
       "3           1584.0       1203.0  \n",
       "4           1490.0       1110.0  \n",
       "...            ...          ...  \n",
       "9352        1374.0       1729.0  \n",
       "9353        1264.0       1269.0  \n",
       "9354        1241.0       1092.0  \n",
       "9355        1041.0        770.0  \n",
       "9356        1129.0        816.0  \n",
       "\n",
       "[9357 rows x 8 columns]"
      ]
     },
     "execution_count": 85,
     "metadata": {},
     "output_type": "execute_result"
    }
   ],
   "source": [
    "angin1 = angin.drop(['Date','Time','C6H6(GT)','T','RH','AH','CO(GT)'], axis=1)\n",
    "angin1"
   ]
  },
  {
   "cell_type": "code",
   "execution_count": 86,
   "id": "39b6da53",
   "metadata": {},
   "outputs": [
    {
     "name": "stdout",
     "output_type": "stream",
     "text": [
      "airquality.keys(): \n",
      "Index(['PT08.S1(CO)', 'NMHC(GT)', 'PT08.S2(NMHC)', 'NOx(GT)', 'PT08.S3(NOx)',\n",
      "       'NO2(GT)', 'PT08.S4(NO2)', 'PT08.S5(O3)'],\n",
      "      dtype='object')\n"
     ]
    }
   ],
   "source": [
    "print(\"airquality.keys(): \\n{}\".format(angin1.keys()))"
   ]
  },
  {
   "cell_type": "code",
   "execution_count": 87,
   "id": "0c80184d",
   "metadata": {},
   "outputs": [
    {
     "name": "stdout",
     "output_type": "stream",
     "text": [
      "Features names:\n",
      "Index(['PT08.S1(CO)', 'NMHC(GT)', 'PT08.S2(NMHC)', 'NOx(GT)', 'PT08.S3(NOx)',\n",
      "       'NO2(GT)', 'PT08.S4(NO2)', 'PT08.S5(O3)'],\n",
      "      dtype='object')\n"
     ]
    }
   ],
   "source": [
    "#To get a description of the semantic meaning of each feature, we can have a look at the feature_names attribute\n",
    "print(\"Features names:\\n{}\".format(angin1.columns))"
   ]
  },
  {
   "cell_type": "code",
   "execution_count": 88,
   "id": "a4869d70",
   "metadata": {},
   "outputs": [
    {
     "name": "stdout",
     "output_type": "stream",
     "text": [
      "Data shape: (9357, 8)\n"
     ]
    }
   ],
   "source": [
    "from sklearn.datasets import load_boston\n",
    "print(\"Data shape: {}\".format(angin1.shape))"
   ]
  },
  {
   "cell_type": "code",
   "execution_count": 89,
   "id": "71274b92",
   "metadata": {},
   "outputs": [
    {
     "name": "stdout",
     "output_type": "stream",
     "text": [
      "Features names: \n",
      "Index(['PT08.S1(CO)', 'NMHC(GT)', 'PT08.S2(NMHC)', 'NOx(GT)', 'PT08.S3(NOx)',\n",
      "       'NO2(GT)', 'PT08.S4(NO2)', 'PT08.S5(O3)'],\n",
      "      dtype='object')\n"
     ]
    }
   ],
   "source": [
    "print(\"Features names: \\n{}\".format(angin1.columns))"
   ]
  },
  {
   "cell_type": "code",
   "execution_count": 90,
   "id": "9fbade60",
   "metadata": {},
   "outputs": [
    {
     "name": "stdout",
     "output_type": "stream",
     "text": [
      "X.shape: (9471, 7)\n"
     ]
    }
   ],
   "source": [
    "print(\"X.shape: {}\".format(X.shape))"
   ]
  },
  {
   "cell_type": "code",
   "execution_count": 91,
   "id": "0b47471f",
   "metadata": {},
   "outputs": [],
   "source": [
    "X = angin1.iloc[:, :-1].values\n",
    "y = angin1.iloc[: , 6].values"
   ]
  },
  {
   "cell_type": "code",
   "execution_count": 92,
   "id": "f4f94481",
   "metadata": {},
   "outputs": [],
   "source": [
    "from sklearn.model_selection import train_test_split\n",
    "\n",
    "X_train, X_test, y_train , y_test = train_test_split(X, y, test_size=0.25 , random_state=0)"
   ]
  },
  {
   "cell_type": "code",
   "execution_count": 93,
   "id": "98d5014a",
   "metadata": {},
   "outputs": [],
   "source": [
    "from sklearn.preprocessing import StandardScaler\n",
    "scaler = StandardScaler()\n",
    "scaler.fit(X_train)\n",
    "X_train = scaler.transform(X_train)\n",
    "X_test = scaler.transform(X_test)"
   ]
  },
  {
   "cell_type": "markdown",
   "id": "74a81577",
   "metadata": {},
   "source": [
    "### saya menggunakan neighbors dengan jumlah n=3"
   ]
  },
  {
   "cell_type": "code",
   "execution_count": 94,
   "id": "d6dac7a7",
   "metadata": {},
   "outputs": [
    {
     "data": {
      "text/plain": [
       "KNeighborsClassifier(n_neighbors=3)"
      ]
     },
     "execution_count": 94,
     "metadata": {},
     "output_type": "execute_result"
    }
   ],
   "source": [
    "from sklearn.neighbors import KNeighborsClassifier\n",
    "clf = KNeighborsClassifier(n_neighbors=3)\n",
    "clf.fit(X_train, y_train)"
   ]
  },
  {
   "cell_type": "code",
   "execution_count": 95,
   "id": "78af8ef6",
   "metadata": {},
   "outputs": [],
   "source": [
    "y_pred = clf.predict(X_test)"
   ]
  },
  {
   "cell_type": "code",
   "execution_count": 96,
   "id": "3e9fbfec",
   "metadata": {},
   "outputs": [
    {
     "name": "stdout",
     "output_type": "stream",
     "text": [
      "Test set: \n",
      "[[-0.39683713  1.84434213 -0.354474   ...  0.94340255  0.15879882\n",
      "  -0.17314085]\n",
      " [-0.39381143 -0.29234585 -0.99843563 ...  0.83141419  0.269074\n",
      "  -1.22872972]\n",
      " [-0.85371782 -0.29234585 -0.80903515 ...  1.14560375 -0.11688913\n",
      "  -0.18382495]\n",
      " ...\n",
      " [-0.26068063 -0.29234585 -0.33699088 ...  0.41767944 -0.10901233\n",
      "   0.54055688]\n",
      " [-0.24857783 -0.29234585 -0.55552989 ...  0.21858902 -2.03095119\n",
      "  -1.04496323]\n",
      " [ 0.02373517 -0.29234585 -0.26705839 ...  0.09104673 -0.08538194\n",
      "   0.48713639]] \n",
      "[1311.  817. 1306. ... 1645.  903. 1620.]\n",
      "\n",
      "Test set predictions: [1310.  807. 1256. ... 1597.  874. 1623.]\n"
     ]
    }
   ],
   "source": [
    "#melihat nilai prediksi dari dataset air quality\n",
    "\n",
    "print(\"Test set: \\n{} \\n{}\\n\".format(X_test, y_test))\n",
    "print(\"Test set predictions: {}\".format(clf.predict(X_test)))"
   ]
  },
  {
   "cell_type": "code",
   "execution_count": 97,
   "id": "84c0f155",
   "metadata": {},
   "outputs": [
    {
     "name": "stdout",
     "output_type": "stream",
     "text": [
      "Test set accuracy: 0.05\n"
     ]
    }
   ],
   "source": [
    "print(\"Test set accuracy: {:.2f}\".format(clf.score(X_test, y_test)))"
   ]
  },
  {
   "cell_type": "markdown",
   "id": "e8ad2302",
   "metadata": {},
   "source": [
    "#### hasil dari test set accuracy adalah 0.04, maka bisa dibilang tingkat akurasinya tinggi"
   ]
  },
  {
   "cell_type": "code",
   "execution_count": 98,
   "id": "4a79cbc7",
   "metadata": {},
   "outputs": [
    {
     "data": {
      "text/plain": [
       "<matplotlib.legend.Legend at 0x29ab03996a0>"
      ]
     },
     "execution_count": 98,
     "metadata": {},
     "output_type": "execute_result"
    },
    {
     "data": {
      "image/png": "[encoded data removed]",
      "text/plain": [
       "<Figure size 432x288 with 1 Axes>"
      ]
     },
     "metadata": {
      "needs_background": "light"
     },
     "output_type": "display_data"
    }
   ],
   "source": [
    "from sklearn.datasets import load_breast_cancer\n",
    "cancer = load_breast_cancer()\n",
    "\n",
    "X_train, X_test, y_train, y_test = train_test_split(X , y, stratify=None, shuffle=False, random_state=0)\n",
    "training_accuracy = []\n",
    "test_accuracy = []\n",
    "\n",
    "# try n_neighbors in neighbors from 1 to 10\n",
    "neighbors_settings = range(1, 11)\n",
    "\n",
    "for n_neighbors in neighbors_settings:\n",
    "    # build the model\n",
    "    clf = KNeighborsClassifier(n_neighbors=n_neighbors)\n",
    "    clf.fit(X_train, y_train)\n",
    "    #record training set accuracy\n",
    "    training_accuracy.append(clf.score(X_train, y_train))\n",
    "    #record generalization accuracy\n",
    "    test_accuracy.append(clf.score(X_test, y_test))\n",
    "    \n",
    "plt.plot(neighbors_settings, training_accuracy, label=\"training accuracy\")\n",
    "plt.plot(neighbors_settings, test_accuracy, label=\"test accuracy\")\n",
    "plt.ylabel(\"Accuracy\")\n",
    "plt.xlabel(\"n_neighbors\")\n",
    "plt.legend()"
   ]
  },
  {
   "cell_type": "markdown",
   "id": "f7e50392",
   "metadata": {},
   "source": [
    "#### Berdasarkan hasil grafik, data train nya menurun drastis mendekati hasil test accuracy. untuk hasil akuratnya bisa dibialng mendekati karena jaraknya tidak begitu jauh. Hal ini diaplikasikan kepada n_neighbors bila kita ubah misal menjad 10n maka hasil trainingnya akan semakin dekat dengan training accuracy."
   ]
  },
  {
   "cell_type": "markdown",
   "id": "5a19b127",
   "metadata": {},
   "source": [
    "#### mari kita melakukan checking error terhadap test yang sudah dibuat"
   ]
  },
  {
   "cell_type": "code",
   "execution_count": 99,
   "id": "edde7020",
   "metadata": {},
   "outputs": [],
   "source": [
    "error_rate = []\n",
    "for i in range(1, 80):\n",
    "    knn = KNeighborsClassifier(n_neighbors = i)\n",
    "    knn.fit(X_train, y_train)\n",
    "    pred_i = knn.predict(X_test)\n",
    "    error_rate.append(np.mean(pred_i != y_test))"
   ]
  },
  {
   "cell_type": "markdown",
   "id": "7b3ede93",
   "metadata": {},
   "source": [
    "#### kita menggunakan i= 1 sampe 79"
   ]
  },
  {
   "cell_type": "code",
   "execution_count": 100,
   "id": "0d8e34a2",
   "metadata": {},
   "outputs": [
    {
     "data": {
      "text/plain": [
       "Text(0, 0.5, 'Error (misclassification) Rate')"
      ]
     },
     "execution_count": 100,
     "metadata": {},
     "output_type": "execute_result"
    },
    {
     "data": {
      "image/png": "[encoded data removed]",
      "text/plain": [
       "<Figure size 1080x720 with 1 Axes>"
      ]
     },
     "metadata": {
      "needs_background": "light"
     },
     "output_type": "display_data"
    }
   ],
   "source": [
    "plt.figure(figsize = (15, 10))\n",
    "plt.plot(range(1, 80), error_rate, color = \"purple\", linestyle = \"dashed\", marker = \"o\", markerfacecolor = \"yellow\", markersize = 6)\n",
    "plt.title(\"Error Rate vs. K Value\", fontsize = 30)\n",
    "plt.xlabel(\"K\", fontsize = 50)\n",
    "plt.ylabel(\"Error (misclassification) Rate\")"
   ]
  },
  {
   "cell_type": "markdown",
   "id": "b68695b3",
   "metadata": {},
   "source": [
    "#### bisa dilihat bahwa error ratenya ini bervariasi hingga mencapai puncak  pada 0.938 sekian sehingga sulit apakah errornya ini jelas atau tidak."
   ]
  },
  {
   "cell_type": "code",
   "execution_count": 101,
   "id": "2b7eeb01",
   "metadata": {},
   "outputs": [
    {
     "name": "stdout",
     "output_type": "stream",
     "text": [
      "Test set: \n",
      "[[ 961. -200.  654. ...  925. -200. 1084.]\n",
      " [ 916. -200.  623. ...  962. -200. 1064.]\n",
      " [ 835. -200.  484. ... 1266. -200.  961.]\n",
      " ...\n",
      " [1142. -200. 1063. ...  603.  175. 1241.]\n",
      " [1003. -200.  961. ...  702.  156. 1041.]\n",
      " [1071. -200. 1047. ...  654.  168. 1129.]] \n",
      "[1084. 1064.  961. ... 1241. 1041. 1129.]\n",
      "\n",
      "Test set predictions: \n",
      "[1072.         1072.         1017.66666667 ... 1252.33333333 1069.\n",
      " 1125.        ]\n"
     ]
    }
   ],
   "source": [
    "from sklearn.neighbors import KNeighborsRegressor\n",
    "# memisahkan dataset menjadi data training dan data testing\n",
    "X_train, X_test, y_train, y_test = train_test_split(X, y, shuffle = False, stratify = None, random_state = 0)\n",
    "# masukkan number of neighbors sebesar 3\n",
    "reg = KNeighborsRegressor(n_neighbors = 3)\n",
    "# fit model menggunakan training data dan training targets\n",
    "reg.fit(X_train, y_train)\n",
    "print(\"Test set: \\n{} \\n{}\\n\".format(X_test, y_test))\n",
    "print(\"Test set predictions: \\n{}\".format(reg.predict(X_test)))"
   ]
  },
  {
   "cell_type": "code",
   "execution_count": 102,
   "id": "cc2e784f",
   "metadata": {},
   "outputs": [
    {
     "name": "stdout",
     "output_type": "stream",
     "text": [
      "Test set R^2: 0.99\n"
     ]
    }
   ],
   "source": [
    "print(\"Test set R^2: {:.2f}\".format(reg.score(X_test, y_test)))"
   ]
  },
  {
   "cell_type": "code",
   "execution_count": 103,
   "id": "076517b9",
   "metadata": {},
   "outputs": [
    {
     "ename": "ValueError",
     "evalue": "cannot reshape array of size 1000 into shape (7)",
     "output_type": "error",
     "traceback": [
      "\u001b[1;31m---------------------------------------------------------------------------\u001b[0m",
      "\u001b[1;31mValueError\u001b[0m                                Traceback (most recent call last)",
      "Input \u001b[1;32mIn [103]\u001b[0m, in \u001b[0;36m<cell line: 3>\u001b[1;34m()\u001b[0m\n\u001b[0;32m      1\u001b[0m fig, axes \u001b[38;5;241m=\u001b[39m plt\u001b[38;5;241m.\u001b[39msubplots( \u001b[38;5;241m1\u001b[39m, \u001b[38;5;241m3\u001b[39m, figsize\u001b[38;5;241m=\u001b[39m(\u001b[38;5;241m15\u001b[39m,\u001b[38;5;241m4\u001b[39m))\n\u001b[0;32m      2\u001b[0m \u001b[38;5;66;03m# create 1000 data points, evenly spaced between -3 and 3\u001b[39;00m\n\u001b[1;32m----> 3\u001b[0m line \u001b[38;5;241m=\u001b[39m \u001b[43mnp\u001b[49m\u001b[38;5;241;43m.\u001b[39;49m\u001b[43mlinspace\u001b[49m\u001b[43m(\u001b[49m\u001b[38;5;241;43m-\u001b[39;49m\u001b[38;5;241;43m3\u001b[39;49m\u001b[43m,\u001b[49m\u001b[43m \u001b[49m\u001b[38;5;241;43m3\u001b[39;49m\u001b[43m,\u001b[49m\u001b[43m \u001b[49m\u001b[38;5;241;43m1000\u001b[39;49m\u001b[43m)\u001b[49m\u001b[38;5;241;43m.\u001b[39;49m\u001b[43mreshape\u001b[49m\u001b[43m(\u001b[49m\u001b[38;5;241;43m-\u001b[39;49m\u001b[38;5;241;43m7\u001b[39;49m\u001b[43m,\u001b[49m\u001b[43m \u001b[49m\u001b[38;5;241;43m7\u001b[39;49m\u001b[43m)\u001b[49m\n\u001b[0;32m      5\u001b[0m \u001b[38;5;28;01mfor\u001b[39;00m n_neighbors, ax \u001b[38;5;129;01min\u001b[39;00m \u001b[38;5;28mzip\u001b[39m([\u001b[38;5;241m1\u001b[39m, \u001b[38;5;241m3\u001b[39m, \u001b[38;5;241m9\u001b[39m], axes):\n\u001b[0;32m      6\u001b[0m     \u001b[38;5;66;03m# make predictions using 1, 3, or 9 neighbors\u001b[39;00m\n\u001b[0;32m      7\u001b[0m     reg \u001b[38;5;241m=\u001b[39m KNeighborsRegressor(n_neighbors\u001b[38;5;241m=\u001b[39mn_neighbors)\n",
      "\u001b[1;31mValueError\u001b[0m: cannot reshape array of size 1000 into shape (7)"
     ]
    },
    {
     "data": {
      "image/png": "[encoded data removed]",
      "text/plain": [
       "<Figure size 1080x288 with 3 Axes>"
      ]
     },
     "metadata": {
      "needs_background": "light"
     },
     "output_type": "display_data"
    }
   ],
   "source": [
    "fig, axes = plt.subplots( 1, 3, figsize=(15,4))\n",
    "# create 1000 data points, evenly spaced between -3 and 3\n",
    "line = np.linspace(-3, 3, 1000).reshape(-7, 7)\n",
    "\n",
    "for n_neighbors, ax in zip([1, 3, 9], axes):\n",
    "    # make predictions using 1, 3, or 9 neighbors\n",
    "    reg = KNeighborsRegressor(n_neighbors=n_neighbors)\n",
    "    reg.fit(X_train, y_train)\n",
    "    ax.plot(line, reg.predict(line))\n",
    "    ax.plot(X_train, y_train, '^', c=mglearn.cm2(0), markersize=8)\n",
    "    ax.plot(X_test, y_test, 'v',c=mglearn.cm2(1), markersize=8)\n",
    "    ax.set_title(\"{} neighbors(s)\\n train score: {:.2f} test score: {:.2f}\".format(\n",
    "    n_neighbors, reg.score(X_train, y_train),\n",
    "    reg.score(X_test, y_test)))\n",
    "    ax.set_xlabel(\"Feature\")\n",
    "    ax.set_ylabel(\"Target\")\n",
    "\n",
    "axes[0].legend([\"Model predictions\", \"Training data/target\",\n",
    "               \"Test data/target\"], loc=\"best\")"
   ]
  },
  {
   "cell_type": "code",
   "execution_count": null,
   "id": "829be818",
   "metadata": {},
   "outputs": [],
   "source": []
  },
  {
   "cell_type": "markdown",
   "id": "e65388f7",
   "metadata": {},
   "source": [
    "---\n",
    "\n",
    "### Kesimpulan\n",
    "\n",
    "\n",
    "\n",
    "Berikan simpulan yang dilakukan dari hasil kerja menggunakan algoritma dan 2 dataset yang\n",
    "dipilih. Simpulan bisa berkisar antara (bisa di modifikasi):\n",
    "\n",
    "    - untuk testing yang 0.04, bisa dikatakan akurat karena dibawah 1 dan hasil dataset ini bisa dibilang terpercaya untuk dilakukan test berikutnya\n",
    "    - dari test training accuracy dan test accuracy bisa disimpulkan bahwa, sekain rendah data set trainingnya dan mendekati test accuracy makan akan semakin akurat, dan dari jumlah n_neighbors apabila semakin tinggi, maka test data training dan test accuracy jaraknya tidak jauh melainkan mendekati.\n",
    "    - test set hasil R squared adalah : 0.99. dan sesuai dengan syarat maka 0.83 ini hubungan variablenya rendah karena minimal adalah 1.\n",
    "    - untuk grafik saya tidak bisa siumpulkan karena error.\n",
    "\n",
    "---"
   ]
  },
  {
   "cell_type": "code",
   "execution_count": 104,
   "id": "60b9b4ca",
   "metadata": {},
   "outputs": [
    {
     "name": "stdout",
     "output_type": "stream",
     "text": [
      "I certify that this is my own work.\n",
      "Signed by:\n",
      "Name: \t\tChristopher Darren\n",
      "NIM: \t\t00000054804\n",
      "Time-stamp:\t2023-03-22 17:14:26.604672\n"
     ]
    }
   ],
   "source": [
    "# Footer\n",
    "myDate = datetime.datetime.now()\n",
    "print(\"I certify that this is my own work.\")\n",
    "print(\"Signed by:\")\n",
    "print(\"Name: \\t\\t{}\".format(myName))\n",
    "print(\"NIM: \\t\\t{}\".format(myNIM))\n",
    "print(\"Time-stamp:\\t{}\".format(myDate))"
   ]
  },
  {
   "cell_type": "markdown",
   "id": "115e24b4",
   "metadata": {},
   "source": [
    "***\n",
    "\n",
    "### Save the notebook, then convert the notebook to html (by running the next code)."
   ]
  },
  {
   "cell_type": "code",
   "execution_count": 105,
   "id": "1e86341c",
   "metadata": {},
   "outputs": [
    {
     "name": "stderr",
     "output_type": "stream",
     "text": [
      "[NbConvertApp] Converting notebook ./IF540_Kelas EL_00000054804_Christopher Darren_Week06.ipynb to html\n",
      "[NbConvertApp] Writing 1077626 bytes to IF540_Kelas EL_00000054804_Christopher Darren_Week06.html\n"
     ]
    }
   ],
   "source": [
    "!jupyter nbconvert --to html \"./IF540_Kelas EL_00000054804_Christopher Darren_Week06.ipynb\" --output-dir=\"./\""
   ]
  },
  {
   "cell_type": "code",
   "execution_count": null,
   "id": "f84c5ba8",
   "metadata": {},
   "outputs": [],
   "source": []
  }
 ],
 "metadata": {
  "kernelspec": {
   "display_name": "Python 3 (ipykernel)",
   "language": "python",
   "name": "python3"
  },
  "language_info": {
   "codemirror_mode": {
    "name": "ipython",
    "version": 3
   },
   "file_extension": ".py",
   "mimetype": "text/x-python",
   "name": "python",
   "nbconvert_exporter": "python",
   "pygments_lexer": "ipython3",
   "version": "3.9.12"
  }
 },
 "nbformat": 4,
 "nbformat_minor": 5
}
