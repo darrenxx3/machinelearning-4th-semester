{
 "cells": [
  {
   "cell_type": "markdown",
   "id": "aea691db",
   "metadata": {},
   "source": [
    "## <div align=\"center\"> TUGAS LAB IF540 MACHINE LEARNING </div>\n",
    "### <div align=\"center\"> WEEK 04 : Linear Discriminant Analysis </div>\n",
    "\n",
    "#### <div align=\"center\"> Semester Ganjil 2022/2023 </div>"
   ]
  },
  {
   "cell_type": "code",
   "execution_count": 1,
   "id": "ad81e0ee",
   "metadata": {},
   "outputs": [],
   "source": [
    "import datetime\n",
    "import uuid    \n",
    "\n",
    "# Fill in your name and NIM\n",
    "myName = \"Christopher Darren\"\n",
    "myNIM = \"00000054804\""
   ]
  },
  {
   "cell_type": "code",
   "execution_count": 2,
   "id": "98d912a1",
   "metadata": {},
   "outputs": [
    {
     "name": "stdout",
     "output_type": "stream",
     "text": [
      "Name: \t\tChristopher Darren\n",
      "NIM: \t\t00000054804\n",
      "Start: \t\t2023-03-02 10:06:53.092746\n",
      "Device ID: \t48551295-b8a7-11ed-9cd4-f02f74a116e8\n"
     ]
    }
   ],
   "source": [
    "myDate = datetime.datetime.now()\n",
    "myDevice = str(uuid.uuid1())\n",
    "\n",
    "# Header\n",
    "print(\"Name: \\t\\t{}\".format(myName))\n",
    "print(\"NIM: \\t\\t{}\".format(myNIM))\n",
    "print(\"Start: \\t\\t{}\".format(myDate))\n",
    "print(\"Device ID: \\t{}\".format(myDevice))"
   ]
  },
  {
   "cell_type": "markdown",
   "id": "ce3f5e6e",
   "metadata": {},
   "source": [
    "\n",
    "---\n",
    "\n",
    "### Dataset yang dipakai:\n",
    "\n",
    "1. Drug          – sumber : https://www.kaggle.com/datasets/prathamtripathi/drug-classification\n",
    "2. Glass          – sumber :https://www.kaggle.com/datasets/prashant111/glass-identification-dataset?select=glass_data.csv\n",
    "\n",
    "### Hasil kerja"
   ]
  },
  {
   "cell_type": "markdown",
   "id": "b36abd75",
   "metadata": {},
   "source": [
    "#### Part 1.Data Preprocessing"
   ]
  },
  {
   "cell_type": "markdown",
   "id": "c1daabb8",
   "metadata": {},
   "source": [
    "##### 1.1 import libraries\n"
   ]
  },
  {
   "cell_type": "code",
   "execution_count": 2,
   "id": "d8c4470e",
   "metadata": {},
   "outputs": [],
   "source": [
    "import numpy as np\n",
    "import pandas as pd\n",
    "import matplotlib.pyplot as plt\n",
    "import seaborn as sns\n",
    "from sklearn import utils"
   ]
  },
  {
   "cell_type": "markdown",
   "id": "81e6d30c",
   "metadata": {},
   "source": [
    "##### 1.2 Import the dataset"
   ]
  },
  {
   "cell_type": "code",
   "execution_count": 3,
   "id": "9dd5bdb0",
   "metadata": {},
   "outputs": [],
   "source": [
    "dataset = pd.read_csv(r'D:\\SEMESTER 4\\IF540 Machine Learning\\LAB\\week4\\glass_data.csv')\n",
    "X = dataset.iloc[:, :10].values\n",
    "Y = dataset.iloc[:, 10].values"
   ]
  },
  {
   "cell_type": "code",
   "execution_count": 4,
   "id": "12fd9fdd",
   "metadata": {},
   "outputs": [
    {
     "data": {
      "text/html": [
       "<div>\n",
       "<style scoped>\n",
       "    .dataframe tbody tr th:only-of-type {\n",
       "        vertical-align: middle;\n",
       "    }\n",
       "\n",
       "    .dataframe tbody tr th {\n",
       "        vertical-align: top;\n",
       "    }\n",
       "\n",
       "    .dataframe thead th {\n",
       "        text-align: right;\n",
       "    }\n",
       "</style>\n",
       "<table border=\"1\" class=\"dataframe\">\n",
       "  <thead>\n",
       "    <tr style=\"text-align: right;\">\n",
       "      <th></th>\n",
       "      <th>column_a</th>\n",
       "      <th>column_b</th>\n",
       "      <th>column_c</th>\n",
       "      <th>column_d</th>\n",
       "      <th>column_e</th>\n",
       "      <th>column_f</th>\n",
       "      <th>column_g</th>\n",
       "      <th>column_h</th>\n",
       "      <th>column_i</th>\n",
       "      <th>column_j</th>\n",
       "      <th>column_k</th>\n",
       "    </tr>\n",
       "  </thead>\n",
       "  <tbody>\n",
       "    <tr>\n",
       "      <th>0</th>\n",
       "      <td>1</td>\n",
       "      <td>1.52101</td>\n",
       "      <td>13.64</td>\n",
       "      <td>4.49</td>\n",
       "      <td>1.10</td>\n",
       "      <td>71.78</td>\n",
       "      <td>0.06</td>\n",
       "      <td>8.75</td>\n",
       "      <td>0.0</td>\n",
       "      <td>0.0</td>\n",
       "      <td>1</td>\n",
       "    </tr>\n",
       "    <tr>\n",
       "      <th>1</th>\n",
       "      <td>2</td>\n",
       "      <td>1.51761</td>\n",
       "      <td>13.89</td>\n",
       "      <td>3.60</td>\n",
       "      <td>1.36</td>\n",
       "      <td>72.73</td>\n",
       "      <td>0.48</td>\n",
       "      <td>7.83</td>\n",
       "      <td>0.0</td>\n",
       "      <td>0.0</td>\n",
       "      <td>1</td>\n",
       "    </tr>\n",
       "    <tr>\n",
       "      <th>2</th>\n",
       "      <td>3</td>\n",
       "      <td>1.51618</td>\n",
       "      <td>13.53</td>\n",
       "      <td>3.55</td>\n",
       "      <td>1.54</td>\n",
       "      <td>72.99</td>\n",
       "      <td>0.39</td>\n",
       "      <td>7.78</td>\n",
       "      <td>0.0</td>\n",
       "      <td>0.0</td>\n",
       "      <td>1</td>\n",
       "    </tr>\n",
       "    <tr>\n",
       "      <th>3</th>\n",
       "      <td>4</td>\n",
       "      <td>1.51766</td>\n",
       "      <td>13.21</td>\n",
       "      <td>3.69</td>\n",
       "      <td>1.29</td>\n",
       "      <td>72.61</td>\n",
       "      <td>0.57</td>\n",
       "      <td>8.22</td>\n",
       "      <td>0.0</td>\n",
       "      <td>0.0</td>\n",
       "      <td>1</td>\n",
       "    </tr>\n",
       "    <tr>\n",
       "      <th>4</th>\n",
       "      <td>5</td>\n",
       "      <td>1.51742</td>\n",
       "      <td>13.27</td>\n",
       "      <td>3.62</td>\n",
       "      <td>1.24</td>\n",
       "      <td>73.08</td>\n",
       "      <td>0.55</td>\n",
       "      <td>8.07</td>\n",
       "      <td>0.0</td>\n",
       "      <td>0.0</td>\n",
       "      <td>1</td>\n",
       "    </tr>\n",
       "  </tbody>\n",
       "</table>\n",
       "</div>"
      ],
      "text/plain": [
       "   column_a  column_b  column_c  column_d  column_e  column_f  column_g  \\\n",
       "0         1   1.52101     13.64      4.49      1.10     71.78      0.06   \n",
       "1         2   1.51761     13.89      3.60      1.36     72.73      0.48   \n",
       "2         3   1.51618     13.53      3.55      1.54     72.99      0.39   \n",
       "3         4   1.51766     13.21      3.69      1.29     72.61      0.57   \n",
       "4         5   1.51742     13.27      3.62      1.24     73.08      0.55   \n",
       "\n",
       "   column_h  column_i  column_j  column_k  \n",
       "0      8.75       0.0       0.0         1  \n",
       "1      7.83       0.0       0.0         1  \n",
       "2      7.78       0.0       0.0         1  \n",
       "3      8.22       0.0       0.0         1  \n",
       "4      8.07       0.0       0.0         1  "
      ]
     },
     "execution_count": 4,
     "metadata": {},
     "output_type": "execute_result"
    }
   ],
   "source": [
    "dataset.head(5)"
   ]
  },
  {
   "cell_type": "code",
   "execution_count": 5,
   "id": "86bc93f3",
   "metadata": {},
   "outputs": [
    {
     "name": "stdout",
     "output_type": "stream",
     "text": [
      "<class 'pandas.core.frame.DataFrame'>\n",
      "RangeIndex: 214 entries, 0 to 213\n",
      "Data columns (total 11 columns):\n",
      " #   Column    Non-Null Count  Dtype  \n",
      "---  ------    --------------  -----  \n",
      " 0   column_a  214 non-null    int64  \n",
      " 1   column_b  214 non-null    float64\n",
      " 2   column_c  214 non-null    float64\n",
      " 3   column_d  214 non-null    float64\n",
      " 4   column_e  214 non-null    float64\n",
      " 5   column_f  214 non-null    float64\n",
      " 6   column_g  214 non-null    float64\n",
      " 7   column_h  214 non-null    float64\n",
      " 8   column_i  214 non-null    float64\n",
      " 9   column_j  214 non-null    float64\n",
      " 10  column_k  214 non-null    int64  \n",
      "dtypes: float64(9), int64(2)\n",
      "memory usage: 18.5 KB\n"
     ]
    }
   ],
   "source": [
    "dataset.info()"
   ]
  },
  {
   "cell_type": "code",
   "execution_count": 6,
   "id": "8a151246",
   "metadata": {},
   "outputs": [
    {
     "data": {
      "text/html": [
       "<div>\n",
       "<style scoped>\n",
       "    .dataframe tbody tr th:only-of-type {\n",
       "        vertical-align: middle;\n",
       "    }\n",
       "\n",
       "    .dataframe tbody tr th {\n",
       "        vertical-align: top;\n",
       "    }\n",
       "\n",
       "    .dataframe thead th {\n",
       "        text-align: right;\n",
       "    }\n",
       "</style>\n",
       "<table border=\"1\" class=\"dataframe\">\n",
       "  <thead>\n",
       "    <tr style=\"text-align: right;\">\n",
       "      <th></th>\n",
       "      <th>column_a</th>\n",
       "      <th>column_b</th>\n",
       "      <th>column_c</th>\n",
       "      <th>column_d</th>\n",
       "      <th>column_e</th>\n",
       "      <th>column_f</th>\n",
       "      <th>column_g</th>\n",
       "      <th>column_h</th>\n",
       "      <th>column_i</th>\n",
       "      <th>column_j</th>\n",
       "      <th>column_k</th>\n",
       "    </tr>\n",
       "  </thead>\n",
       "  <tbody>\n",
       "    <tr>\n",
       "      <th>count</th>\n",
       "      <td>214.000000</td>\n",
       "      <td>214.000000</td>\n",
       "      <td>214.000000</td>\n",
       "      <td>214.000000</td>\n",
       "      <td>214.000000</td>\n",
       "      <td>214.000000</td>\n",
       "      <td>214.000000</td>\n",
       "      <td>214.000000</td>\n",
       "      <td>214.000000</td>\n",
       "      <td>214.000000</td>\n",
       "      <td>214.000000</td>\n",
       "    </tr>\n",
       "    <tr>\n",
       "      <th>mean</th>\n",
       "      <td>107.500000</td>\n",
       "      <td>1.518365</td>\n",
       "      <td>13.407850</td>\n",
       "      <td>2.684533</td>\n",
       "      <td>1.444907</td>\n",
       "      <td>72.650935</td>\n",
       "      <td>0.497056</td>\n",
       "      <td>8.956963</td>\n",
       "      <td>0.175047</td>\n",
       "      <td>0.057009</td>\n",
       "      <td>2.780374</td>\n",
       "    </tr>\n",
       "    <tr>\n",
       "      <th>std</th>\n",
       "      <td>61.920648</td>\n",
       "      <td>0.003037</td>\n",
       "      <td>0.816604</td>\n",
       "      <td>1.442408</td>\n",
       "      <td>0.499270</td>\n",
       "      <td>0.774546</td>\n",
       "      <td>0.652192</td>\n",
       "      <td>1.423153</td>\n",
       "      <td>0.497219</td>\n",
       "      <td>0.097439</td>\n",
       "      <td>2.103739</td>\n",
       "    </tr>\n",
       "    <tr>\n",
       "      <th>min</th>\n",
       "      <td>1.000000</td>\n",
       "      <td>1.511150</td>\n",
       "      <td>10.730000</td>\n",
       "      <td>0.000000</td>\n",
       "      <td>0.290000</td>\n",
       "      <td>69.810000</td>\n",
       "      <td>0.000000</td>\n",
       "      <td>5.430000</td>\n",
       "      <td>0.000000</td>\n",
       "      <td>0.000000</td>\n",
       "      <td>1.000000</td>\n",
       "    </tr>\n",
       "    <tr>\n",
       "      <th>25%</th>\n",
       "      <td>54.250000</td>\n",
       "      <td>1.516522</td>\n",
       "      <td>12.907500</td>\n",
       "      <td>2.115000</td>\n",
       "      <td>1.190000</td>\n",
       "      <td>72.280000</td>\n",
       "      <td>0.122500</td>\n",
       "      <td>8.240000</td>\n",
       "      <td>0.000000</td>\n",
       "      <td>0.000000</td>\n",
       "      <td>1.000000</td>\n",
       "    </tr>\n",
       "    <tr>\n",
       "      <th>50%</th>\n",
       "      <td>107.500000</td>\n",
       "      <td>1.517680</td>\n",
       "      <td>13.300000</td>\n",
       "      <td>3.480000</td>\n",
       "      <td>1.360000</td>\n",
       "      <td>72.790000</td>\n",
       "      <td>0.555000</td>\n",
       "      <td>8.600000</td>\n",
       "      <td>0.000000</td>\n",
       "      <td>0.000000</td>\n",
       "      <td>2.000000</td>\n",
       "    </tr>\n",
       "    <tr>\n",
       "      <th>75%</th>\n",
       "      <td>160.750000</td>\n",
       "      <td>1.519157</td>\n",
       "      <td>13.825000</td>\n",
       "      <td>3.600000</td>\n",
       "      <td>1.630000</td>\n",
       "      <td>73.087500</td>\n",
       "      <td>0.610000</td>\n",
       "      <td>9.172500</td>\n",
       "      <td>0.000000</td>\n",
       "      <td>0.100000</td>\n",
       "      <td>3.000000</td>\n",
       "    </tr>\n",
       "    <tr>\n",
       "      <th>max</th>\n",
       "      <td>214.000000</td>\n",
       "      <td>1.533930</td>\n",
       "      <td>17.380000</td>\n",
       "      <td>4.490000</td>\n",
       "      <td>3.500000</td>\n",
       "      <td>75.410000</td>\n",
       "      <td>6.210000</td>\n",
       "      <td>16.190000</td>\n",
       "      <td>3.150000</td>\n",
       "      <td>0.510000</td>\n",
       "      <td>7.000000</td>\n",
       "    </tr>\n",
       "  </tbody>\n",
       "</table>\n",
       "</div>"
      ],
      "text/plain": [
       "         column_a    column_b    column_c    column_d    column_e    column_f  \\\n",
       "count  214.000000  214.000000  214.000000  214.000000  214.000000  214.000000   \n",
       "mean   107.500000    1.518365   13.407850    2.684533    1.444907   72.650935   \n",
       "std     61.920648    0.003037    0.816604    1.442408    0.499270    0.774546   \n",
       "min      1.000000    1.511150   10.730000    0.000000    0.290000   69.810000   \n",
       "25%     54.250000    1.516522   12.907500    2.115000    1.190000   72.280000   \n",
       "50%    107.500000    1.517680   13.300000    3.480000    1.360000   72.790000   \n",
       "75%    160.750000    1.519157   13.825000    3.600000    1.630000   73.087500   \n",
       "max    214.000000    1.533930   17.380000    4.490000    3.500000   75.410000   \n",
       "\n",
       "         column_g    column_h    column_i    column_j    column_k  \n",
       "count  214.000000  214.000000  214.000000  214.000000  214.000000  \n",
       "mean     0.497056    8.956963    0.175047    0.057009    2.780374  \n",
       "std      0.652192    1.423153    0.497219    0.097439    2.103739  \n",
       "min      0.000000    5.430000    0.000000    0.000000    1.000000  \n",
       "25%      0.122500    8.240000    0.000000    0.000000    1.000000  \n",
       "50%      0.555000    8.600000    0.000000    0.000000    2.000000  \n",
       "75%      0.610000    9.172500    0.000000    0.100000    3.000000  \n",
       "max      6.210000   16.190000    3.150000    0.510000    7.000000  "
      ]
     },
     "execution_count": 6,
     "metadata": {},
     "output_type": "execute_result"
    }
   ],
   "source": [
    "dataset.describe()"
   ]
  },
  {
   "cell_type": "code",
   "execution_count": 7,
   "id": "5046afd5",
   "metadata": {},
   "outputs": [
    {
     "data": {
      "text/plain": [
       "(214, 11)"
      ]
     },
     "execution_count": 7,
     "metadata": {},
     "output_type": "execute_result"
    }
   ],
   "source": [
    "dataset.shape"
   ]
  },
  {
   "cell_type": "code",
   "execution_count": 8,
   "id": "3e2c1a1a",
   "metadata": {},
   "outputs": [
    {
     "data": {
      "text/plain": [
       "column_a    0\n",
       "column_b    0\n",
       "column_c    0\n",
       "column_d    0\n",
       "column_e    0\n",
       "column_f    0\n",
       "column_g    0\n",
       "column_h    0\n",
       "column_i    0\n",
       "column_j    0\n",
       "column_k    0\n",
       "dtype: int64"
      ]
     },
     "execution_count": 8,
     "metadata": {},
     "output_type": "execute_result"
    }
   ],
   "source": [
    "#checking null\n",
    "\n",
    "dataset.isnull().sum()"
   ]
  },
  {
   "cell_type": "code",
   "execution_count": 9,
   "id": "9c2e262e",
   "metadata": {},
   "outputs": [],
   "source": [
    "def clean_dataset(dataset):\n",
    "    assert isinstance(dataset, pd.DataFrame), \"dataset needs to be a pd.DataFrame\"\n",
    "    dataset.dropna(inplace=True)\n",
    "    indices_to_keep = ~dataset.isin([np.nan, np.inf, -np.inf]).any(axis=1)\n",
    "    return dataset[indices_to_keep].astype(np.float64)"
   ]
  },
  {
   "cell_type": "code",
   "execution_count": 10,
   "id": "ebb922a4",
   "metadata": {},
   "outputs": [],
   "source": [
    "#get rid of infinite values.\n",
    "dataset.replace([np.inf, -np.inf], np.nan, inplace=True)"
   ]
  },
  {
   "cell_type": "code",
   "execution_count": 11,
   "id": "c0914f50",
   "metadata": {},
   "outputs": [],
   "source": [
    "#fill missing values\n",
    "dataset.fillna(0, inplace=True)"
   ]
  },
  {
   "cell_type": "code",
   "execution_count": 12,
   "id": "a057c82a",
   "metadata": {},
   "outputs": [
    {
     "name": "stdout",
     "output_type": "stream",
     "text": [
      "<class 'pandas.core.frame.DataFrame'>\n",
      "RangeIndex: 214 entries, 0 to 213\n",
      "Data columns (total 11 columns):\n",
      " #   Column    Non-Null Count  Dtype  \n",
      "---  ------    --------------  -----  \n",
      " 0   column_a  214 non-null    int64  \n",
      " 1   column_b  214 non-null    float64\n",
      " 2   column_c  214 non-null    float64\n",
      " 3   column_d  214 non-null    float64\n",
      " 4   column_e  214 non-null    float64\n",
      " 5   column_f  214 non-null    float64\n",
      " 6   column_g  214 non-null    float64\n",
      " 7   column_h  214 non-null    float64\n",
      " 8   column_i  214 non-null    float64\n",
      " 9   column_j  214 non-null    float64\n",
      " 10  column_k  214 non-null    int64  \n",
      "dtypes: float64(9), int64(2)\n",
      "memory usage: 18.5 KB\n"
     ]
    }
   ],
   "source": [
    "dataset.info()"
   ]
  },
  {
   "cell_type": "code",
   "execution_count": 13,
   "id": "c444ac97",
   "metadata": {},
   "outputs": [],
   "source": [
    "#converting\n",
    "#dataset['age'] = dataset['age'].astype(int)\n",
    "\n",
    "\n",
    "#dataset[\"age\"] = [float(str(i).replace(\"-\", \"+\", \"a+b\")) for i in dataset[\"age\"]]\n",
    "\n",
    "\n",
    "#dataset['age'] = pd.to_numeric(dataset['age'])\n"
   ]
  },
  {
   "cell_type": "code",
   "execution_count": 14,
   "id": "f94076c3",
   "metadata": {},
   "outputs": [],
   "source": [
    "#dataset_new = dataset.drop('age', axis=1)\n",
    "#dataset_new.head(2)"
   ]
  },
  {
   "cell_type": "code",
   "execution_count": 15,
   "id": "2a00bcd9",
   "metadata": {},
   "outputs": [],
   "source": [
    "#del dataset['age']"
   ]
  },
  {
   "cell_type": "code",
   "execution_count": 16,
   "id": "6e7378f9",
   "metadata": {},
   "outputs": [],
   "source": [
    "#X_ = dataset.iloc[:, :13].values\n",
    "#Y_ = dataset.iloc[:, 13].values"
   ]
  },
  {
   "cell_type": "markdown",
   "id": "40707ebd",
   "metadata": {},
   "source": [
    "##### 1.3 Split the dataset for test and train"
   ]
  },
  {
   "cell_type": "code",
   "execution_count": 17,
   "id": "85343af1",
   "metadata": {},
   "outputs": [],
   "source": [
    "# splitting the dataset into train set and test set\n",
    "from sklearn.model_selection import train_test_split\n",
    "X_train, X_test, y_train, y_test = train_test_split(X,Y, test_size=0.2, random_state=0)"
   ]
  },
  {
   "cell_type": "code",
   "execution_count": 18,
   "id": "18ef5060",
   "metadata": {},
   "outputs": [],
   "source": [
    "#feature Feature Scaling is the most important part of data preprocessing. If we see our\n",
    "#dataset then some attribute contains information in Numeric value some value very high andsome\n",
    "#are very low if we see the age and estimated salary.\n",
    "\n",
    "from sklearn.preprocessing import StandardScaler\n",
    "sc_X = StandardScaler()\n",
    "X_train = sc_X.fit_transform(X_train)\n",
    "\n",
    "X_test = sc_X.transform(X_test)"
   ]
  },
  {
   "cell_type": "markdown",
   "id": "950b9e2d",
   "metadata": {},
   "source": [
    "#### Part 2. Building a Linear Discriminant analysis for Dimensionality Reduction"
   ]
  },
  {
   "cell_type": "markdown",
   "id": "9ace5b89",
   "metadata": {},
   "source": [
    "##### 2.1 Import the Libraries"
   ]
  },
  {
   "cell_type": "code",
   "execution_count": 19,
   "id": "9645a11d",
   "metadata": {},
   "outputs": [],
   "source": [
    "# import LDA model\n",
    "from sklearn.discriminant_analysis import LinearDiscriminantAnalysis as LDA"
   ]
  },
  {
   "cell_type": "markdown",
   "id": "efdcbe68",
   "metadata": {},
   "source": [
    "##### 2.2 Initialize our model"
   ]
  },
  {
   "cell_type": "code",
   "execution_count": 20,
   "id": "0ed458ff",
   "metadata": {},
   "outputs": [],
   "source": [
    "# initialize the LDA\n",
    "lda = LDA(n_components = 2)"
   ]
  },
  {
   "cell_type": "markdown",
   "id": "358da688",
   "metadata": {},
   "source": [
    "##### 2.3 Fitting the Model"
   ]
  },
  {
   "cell_type": "code",
   "execution_count": 21,
   "id": "c1b0003a",
   "metadata": {},
   "outputs": [],
   "source": [
    "# fitting the LDA model\n",
    "X_test = lda.fit_transform(X_test, y_test)\n",
    "X_train = lda.transform(X_train)"
   ]
  },
  {
   "cell_type": "markdown",
   "id": "09c34dfd",
   "metadata": {},
   "source": [
    "##### 3.1 Import the Libraries"
   ]
  },
  {
   "cell_type": "code",
   "execution_count": 22,
   "id": "814a8e4f",
   "metadata": {},
   "outputs": [],
   "source": [
    "# import the Logistic Regression model from sklearn using the 2 variances with \n",
    "#,!the help of LDA\n",
    "\n",
    "from sklearn.linear_model import LogisticRegression"
   ]
  },
  {
   "cell_type": "markdown",
   "id": "80e1f0fa",
   "metadata": {},
   "source": [
    "##### 3.2 Initialize our Logistic Regression model"
   ]
  },
  {
   "cell_type": "code",
   "execution_count": 23,
   "id": "9275d89b",
   "metadata": {},
   "outputs": [],
   "source": [
    "LG=LogisticRegression(random_state=0)"
   ]
  },
  {
   "cell_type": "markdown",
   "id": "b86116b7",
   "metadata": {},
   "source": [
    "##### 3.3 Fitting the Model"
   ]
  },
  {
   "cell_type": "code",
   "execution_count": 24,
   "id": "12b49b52",
   "metadata": {},
   "outputs": [
    {
     "data": {
      "text/plain": [
       "LogisticRegression(random_state=0)"
      ]
     },
     "execution_count": 24,
     "metadata": {},
     "output_type": "execute_result"
    }
   ],
   "source": [
    "# fit the Logistic Regression model\n",
    "LG.fit(X_train,y_train)"
   ]
  },
  {
   "cell_type": "markdown",
   "id": "9468012f",
   "metadata": {},
   "source": [
    "#### Part 4. Making a Prediction and Visualize the result"
   ]
  },
  {
   "cell_type": "markdown",
   "id": "61d10d18",
   "metadata": {},
   "source": [
    "##### 4.1 Predict the test set Result"
   ]
  },
  {
   "cell_type": "code",
   "execution_count": 25,
   "id": "3957f77f",
   "metadata": {},
   "outputs": [],
   "source": [
    "# predict the Logistic regression model\n",
    "y_pred=LG.predict(X_test)"
   ]
  },
  {
   "cell_type": "markdown",
   "id": "e4891f9b",
   "metadata": {},
   "source": [
    "##### 4.2 Confusion Matrix"
   ]
  },
  {
   "cell_type": "code",
   "execution_count": 26,
   "id": "3284f074",
   "metadata": {},
   "outputs": [
    {
     "data": {
      "text/plain": [
       "<AxesSubplot:>"
      ]
     },
     "execution_count": 26,
     "metadata": {},
     "output_type": "execute_result"
    },
    {
     "data": {
      "image/png": "[encoded data removed]",
      "text/plain": [
       "<Figure size 432x288 with 2 Axes>"
      ]
     },
     "metadata": {
      "needs_background": "light"
     },
     "output_type": "display_data"
    }
   ],
   "source": [
    "# making a confusion metrics\n",
    "from sklearn.metrics import confusion_matrix\n",
    "confusion_matrix=confusion_matrix(y_test,y_pred)\n",
    "sns.heatmap(confusion_matrix, annot=True, cmap=\"YlGnBu\")"
   ]
  },
  {
   "cell_type": "markdown",
   "id": "8f34667e",
   "metadata": {},
   "source": [
    "##### 4.3 Visualize our Test Set Result"
   ]
  },
  {
   "cell_type": "code",
   "execution_count": 27,
   "id": "77a7da62",
   "metadata": {
    "scrolled": true
   },
   "outputs": [
    {
     "data": {
      "image/png": "[encoded data removed]",
      "text/plain": [
       "<Figure size 432x288 with 1 Axes>"
      ]
     },
     "metadata": {
      "needs_background": "light"
     },
     "output_type": "display_data"
    }
   ],
   "source": [
    "#Visualising the Test set results\n",
    "\n",
    "from matplotlib.colors import ListedColormap\n",
    "X_set, y_set = X_test, y_test\n",
    "\n",
    "X1, X2 = np.meshgrid(np.arange(start = X_set[:, 0].min() - 1, stop = X_set[:, 0].\n",
    "                              max() + 1, step = 0.01),\n",
    "                    np.arange(start = X_set[:, 1].min() - 1, stop = X_set[:, 1].\n",
    "                              max() + 1, step = 0.01))\n",
    "\n",
    "plt.contourf(X1, X2, LG.predict(np.array([X1.ravel(), X2.ravel()]).T).reshape(X1.shape),\n",
    "            alpha = 0.75, cmap = ListedColormap(('red','green','blue','yellow','pink','grey','cyan')))\n",
    "plt.xlim(X1.min(), X1.max())\n",
    "plt.ylim(X2.min(), X2.max())\n",
    "for i, j in enumerate(np.unique(y_set)):\n",
    "    plt.scatter(X_set[y_set == j, 0], X_set[y_set == j, 1],\n",
    "               color = ListedColormap(('red','green','blue','yellow','pink','grey','cyan'))(i), label = j)\n",
    "plt.title('Logistic Regression for Glass_dataset (Test set)')\n",
    "plt.xlabel('LD1')\n",
    "plt.ylabel('LD2')\n",
    "plt.legend()\n",
    "plt.show()                    "
   ]
  },
  {
   "cell_type": "markdown",
   "id": "5d8b72d2",
   "metadata": {},
   "source": [
    "###  Dataset 2 TUGAS MANDIRI"
   ]
  },
  {
   "cell_type": "markdown",
   "id": "8956d3aa",
   "metadata": {},
   "source": [
    "##### 1.2.1  Import the dataset"
   ]
  },
  {
   "cell_type": "code",
   "execution_count": 28,
   "id": "0e3be45e",
   "metadata": {},
   "outputs": [
    {
     "data": {
      "text/html": [
       "<div>\n",
       "<style scoped>\n",
       "    .dataframe tbody tr th:only-of-type {\n",
       "        vertical-align: middle;\n",
       "    }\n",
       "\n",
       "    .dataframe tbody tr th {\n",
       "        vertical-align: top;\n",
       "    }\n",
       "\n",
       "    .dataframe thead th {\n",
       "        text-align: right;\n",
       "    }\n",
       "</style>\n",
       "<table border=\"1\" class=\"dataframe\">\n",
       "  <thead>\n",
       "    <tr style=\"text-align: right;\">\n",
       "      <th></th>\n",
       "      <th>Age</th>\n",
       "      <th>Sex</th>\n",
       "      <th>BP</th>\n",
       "      <th>Cholesterol</th>\n",
       "      <th>Na_to_K</th>\n",
       "      <th>Drug</th>\n",
       "    </tr>\n",
       "  </thead>\n",
       "  <tbody>\n",
       "    <tr>\n",
       "      <th>0</th>\n",
       "      <td>23</td>\n",
       "      <td>F</td>\n",
       "      <td>HIGH</td>\n",
       "      <td>HIGH</td>\n",
       "      <td>25.355</td>\n",
       "      <td>DrugY</td>\n",
       "    </tr>\n",
       "    <tr>\n",
       "      <th>1</th>\n",
       "      <td>47</td>\n",
       "      <td>M</td>\n",
       "      <td>LOW</td>\n",
       "      <td>HIGH</td>\n",
       "      <td>13.093</td>\n",
       "      <td>drugC</td>\n",
       "    </tr>\n",
       "    <tr>\n",
       "      <th>2</th>\n",
       "      <td>47</td>\n",
       "      <td>M</td>\n",
       "      <td>LOW</td>\n",
       "      <td>HIGH</td>\n",
       "      <td>10.114</td>\n",
       "      <td>drugC</td>\n",
       "    </tr>\n",
       "    <tr>\n",
       "      <th>3</th>\n",
       "      <td>28</td>\n",
       "      <td>F</td>\n",
       "      <td>NORMAL</td>\n",
       "      <td>HIGH</td>\n",
       "      <td>7.798</td>\n",
       "      <td>drugX</td>\n",
       "    </tr>\n",
       "    <tr>\n",
       "      <th>4</th>\n",
       "      <td>61</td>\n",
       "      <td>F</td>\n",
       "      <td>LOW</td>\n",
       "      <td>HIGH</td>\n",
       "      <td>18.043</td>\n",
       "      <td>DrugY</td>\n",
       "    </tr>\n",
       "  </tbody>\n",
       "</table>\n",
       "</div>"
      ],
      "text/plain": [
       "   Age Sex      BP Cholesterol  Na_to_K   Drug\n",
       "0   23   F    HIGH        HIGH   25.355  DrugY\n",
       "1   47   M     LOW        HIGH   13.093  drugC\n",
       "2   47   M     LOW        HIGH   10.114  drugC\n",
       "3   28   F  NORMAL        HIGH    7.798  drugX\n",
       "4   61   F     LOW        HIGH   18.043  DrugY"
      ]
     },
     "execution_count": 28,
     "metadata": {},
     "output_type": "execute_result"
    }
   ],
   "source": [
    "dataset2 = pd.read_csv(r'D:\\SEMESTER 4\\IF540 Machine Learning\\LAB\\week4\\drug200.csv')\n",
    "Xnew = dataset2.iloc[:, :5].values\n",
    "Ynew = dataset2.iloc[:, 5].values\n",
    "dataset2.head(5)"
   ]
  },
  {
   "cell_type": "code",
   "execution_count": 29,
   "id": "881a82eb",
   "metadata": {},
   "outputs": [
    {
     "name": "stdout",
     "output_type": "stream",
     "text": [
      "<class 'pandas.core.frame.DataFrame'>\n",
      "RangeIndex: 200 entries, 0 to 199\n",
      "Data columns (total 6 columns):\n",
      " #   Column       Non-Null Count  Dtype  \n",
      "---  ------       --------------  -----  \n",
      " 0   Age          200 non-null    int64  \n",
      " 1   Sex          200 non-null    object \n",
      " 2   BP           200 non-null    object \n",
      " 3   Cholesterol  200 non-null    object \n",
      " 4   Na_to_K      200 non-null    float64\n",
      " 5   Drug         200 non-null    object \n",
      "dtypes: float64(1), int64(1), object(4)\n",
      "memory usage: 9.5+ KB\n"
     ]
    }
   ],
   "source": [
    "dataset2.info()"
   ]
  },
  {
   "cell_type": "code",
   "execution_count": 30,
   "id": "3200cc1b",
   "metadata": {},
   "outputs": [
    {
     "data": {
      "text/plain": [
       "(200, 6)"
      ]
     },
     "execution_count": 30,
     "metadata": {},
     "output_type": "execute_result"
    }
   ],
   "source": [
    "dataset2.shape"
   ]
  },
  {
   "cell_type": "code",
   "execution_count": 31,
   "id": "9c41e061",
   "metadata": {},
   "outputs": [
    {
     "data": {
      "text/html": [
       "<div>\n",
       "<style scoped>\n",
       "    .dataframe tbody tr th:only-of-type {\n",
       "        vertical-align: middle;\n",
       "    }\n",
       "\n",
       "    .dataframe tbody tr th {\n",
       "        vertical-align: top;\n",
       "    }\n",
       "\n",
       "    .dataframe thead th {\n",
       "        text-align: right;\n",
       "    }\n",
       "</style>\n",
       "<table border=\"1\" class=\"dataframe\">\n",
       "  <thead>\n",
       "    <tr style=\"text-align: right;\">\n",
       "      <th></th>\n",
       "      <th>Age</th>\n",
       "      <th>Na_to_K</th>\n",
       "    </tr>\n",
       "  </thead>\n",
       "  <tbody>\n",
       "    <tr>\n",
       "      <th>count</th>\n",
       "      <td>200.000000</td>\n",
       "      <td>200.000000</td>\n",
       "    </tr>\n",
       "    <tr>\n",
       "      <th>mean</th>\n",
       "      <td>44.315000</td>\n",
       "      <td>16.084485</td>\n",
       "    </tr>\n",
       "    <tr>\n",
       "      <th>std</th>\n",
       "      <td>16.544315</td>\n",
       "      <td>7.223956</td>\n",
       "    </tr>\n",
       "    <tr>\n",
       "      <th>min</th>\n",
       "      <td>15.000000</td>\n",
       "      <td>6.269000</td>\n",
       "    </tr>\n",
       "    <tr>\n",
       "      <th>25%</th>\n",
       "      <td>31.000000</td>\n",
       "      <td>10.445500</td>\n",
       "    </tr>\n",
       "    <tr>\n",
       "      <th>50%</th>\n",
       "      <td>45.000000</td>\n",
       "      <td>13.936500</td>\n",
       "    </tr>\n",
       "    <tr>\n",
       "      <th>75%</th>\n",
       "      <td>58.000000</td>\n",
       "      <td>19.380000</td>\n",
       "    </tr>\n",
       "    <tr>\n",
       "      <th>max</th>\n",
       "      <td>74.000000</td>\n",
       "      <td>38.247000</td>\n",
       "    </tr>\n",
       "  </tbody>\n",
       "</table>\n",
       "</div>"
      ],
      "text/plain": [
       "              Age     Na_to_K\n",
       "count  200.000000  200.000000\n",
       "mean    44.315000   16.084485\n",
       "std     16.544315    7.223956\n",
       "min     15.000000    6.269000\n",
       "25%     31.000000   10.445500\n",
       "50%     45.000000   13.936500\n",
       "75%     58.000000   19.380000\n",
       "max     74.000000   38.247000"
      ]
     },
     "execution_count": 31,
     "metadata": {},
     "output_type": "execute_result"
    }
   ],
   "source": [
    "dataset2.describe()"
   ]
  },
  {
   "cell_type": "code",
   "execution_count": 32,
   "id": "f01fb8e6",
   "metadata": {},
   "outputs": [
    {
     "data": {
      "text/plain": [
       "Age            0\n",
       "Sex            0\n",
       "BP             0\n",
       "Cholesterol    0\n",
       "Na_to_K        0\n",
       "Drug           0\n",
       "dtype: int64"
      ]
     },
     "execution_count": 32,
     "metadata": {},
     "output_type": "execute_result"
    }
   ],
   "source": [
    "#checking null\n",
    "\n",
    "dataset2.isnull().sum()"
   ]
  },
  {
   "cell_type": "code",
   "execution_count": 33,
   "id": "c2404cb9",
   "metadata": {},
   "outputs": [
    {
     "data": {
      "text/plain": [
       "Age              int64\n",
       "Sex             object\n",
       "BP              object\n",
       "Cholesterol     object\n",
       "Na_to_K        float64\n",
       "Drug            object\n",
       "dtype: object"
      ]
     },
     "metadata": {},
     "output_type": "display_data"
    },
    {
     "data": {
      "text/plain": [
       "Age             int64\n",
       "Sex            object\n",
       "BP             object\n",
       "Cholesterol    object\n",
       "Na_to_K        object\n",
       "Drug           object\n",
       "dtype: object"
      ]
     },
     "metadata": {},
     "output_type": "display_data"
    }
   ],
   "source": [
    "# displaying the datatypes\n",
    "display(dataset2.dtypes)\n",
    "  \n",
    "# converting 'Weight' and 'Salary' from float to int\n",
    "dataset2['Na_to_K'] = dataset2['Na_to_K'].astype(str)\n",
    "  \n",
    "# displaying the datatypes\n",
    "display(dataset2.dtypes)"
   ]
  },
  {
   "cell_type": "code",
   "execution_count": 34,
   "id": "ccc3f6a9",
   "metadata": {},
   "outputs": [],
   "source": [
    "#encoding\n",
    "\n",
    "def encode_data(feature_name):\n",
    "    '''\n",
    "    This function takes feature name as a parameter and returns mapping dictionary to replace(or map) categorical data with\n",
    "    '''\n",
    "    mapping_dict = {}\n",
    "    \n",
    "    unique_values = list(dataset2[feature_name].unique())\n",
    "    \n",
    "    \n",
    "    for idx in range(len(unique_values)):\n",
    "        \n",
    "        mapping_dict[unique_values[idx]] = idx\n",
    "        \n",
    "    return mapping_dict\n",
    "\n",
    "dataset2['Sex'].replace(encode_data('Sex'), inplace = True)\n",
    "\n",
    "dataset2['BP'].replace(encode_data('BP'), inplace = True)\n",
    "\n",
    "dataset2['Cholesterol'].replace(encode_data('Cholesterol'), inplace = True)\n",
    "\n",
    "dataset2['Drug'].replace(encode_data('Drug'), inplace = True)"
   ]
  },
  {
   "cell_type": "code",
   "execution_count": 35,
   "id": "cb8299de",
   "metadata": {},
   "outputs": [
    {
     "name": "stdout",
     "output_type": "stream",
     "text": [
      "<class 'pandas.core.frame.DataFrame'>\n",
      "RangeIndex: 200 entries, 0 to 199\n",
      "Data columns (total 6 columns):\n",
      " #   Column       Non-Null Count  Dtype \n",
      "---  ------       --------------  ----- \n",
      " 0   Age          200 non-null    int64 \n",
      " 1   Sex          200 non-null    int64 \n",
      " 2   BP           200 non-null    int64 \n",
      " 3   Cholesterol  200 non-null    int64 \n",
      " 4   Na_to_K      200 non-null    object\n",
      " 5   Drug         200 non-null    int64 \n",
      "dtypes: int64(5), object(1)\n",
      "memory usage: 9.5+ KB\n"
     ]
    }
   ],
   "source": [
    "dataset2.info()"
   ]
  },
  {
   "cell_type": "code",
   "execution_count": 36,
   "id": "17f6186b",
   "metadata": {},
   "outputs": [
    {
     "data": {
      "text/html": [
       "<div>\n",
       "<style scoped>\n",
       "    .dataframe tbody tr th:only-of-type {\n",
       "        vertical-align: middle;\n",
       "    }\n",
       "\n",
       "    .dataframe tbody tr th {\n",
       "        vertical-align: top;\n",
       "    }\n",
       "\n",
       "    .dataframe thead th {\n",
       "        text-align: right;\n",
       "    }\n",
       "</style>\n",
       "<table border=\"1\" class=\"dataframe\">\n",
       "  <thead>\n",
       "    <tr style=\"text-align: right;\">\n",
       "      <th></th>\n",
       "      <th>Age</th>\n",
       "      <th>Sex</th>\n",
       "      <th>BP</th>\n",
       "      <th>Cholesterol</th>\n",
       "      <th>Na_to_K</th>\n",
       "      <th>Drug</th>\n",
       "    </tr>\n",
       "  </thead>\n",
       "  <tbody>\n",
       "    <tr>\n",
       "      <th>0</th>\n",
       "      <td>23</td>\n",
       "      <td>0</td>\n",
       "      <td>0</td>\n",
       "      <td>0</td>\n",
       "      <td>25.355</td>\n",
       "      <td>0</td>\n",
       "    </tr>\n",
       "    <tr>\n",
       "      <th>1</th>\n",
       "      <td>47</td>\n",
       "      <td>1</td>\n",
       "      <td>1</td>\n",
       "      <td>0</td>\n",
       "      <td>13.093</td>\n",
       "      <td>1</td>\n",
       "    </tr>\n",
       "    <tr>\n",
       "      <th>2</th>\n",
       "      <td>47</td>\n",
       "      <td>1</td>\n",
       "      <td>1</td>\n",
       "      <td>0</td>\n",
       "      <td>10.114</td>\n",
       "      <td>1</td>\n",
       "    </tr>\n",
       "  </tbody>\n",
       "</table>\n",
       "</div>"
      ],
      "text/plain": [
       "   Age  Sex  BP  Cholesterol Na_to_K  Drug\n",
       "0   23    0   0            0  25.355     0\n",
       "1   47    1   1            0  13.093     1\n",
       "2   47    1   1            0  10.114     1"
      ]
     },
     "execution_count": 36,
     "metadata": {},
     "output_type": "execute_result"
    }
   ],
   "source": [
    "Xnew1 = dataset2.iloc[:, :5].values\n",
    "Ynew1 = dataset2.iloc[:, 5].values\n",
    "dataset2.head(3)"
   ]
  },
  {
   "cell_type": "markdown",
   "id": "de2494bd",
   "metadata": {},
   "source": [
    "##### 1.3.1 Split the dataset for test and train for drug test"
   ]
  },
  {
   "cell_type": "code",
   "execution_count": 37,
   "id": "3d02321f",
   "metadata": {},
   "outputs": [],
   "source": [
    "# splitting the dataset into train set and test set\n",
    "from sklearn.model_selection import train_test_split\n",
    "X_train1, X_test1, y_train1, y_test1 = train_test_split(Xnew1,Ynew1, test_size=0.2, random_state=0)"
   ]
  },
  {
   "cell_type": "code",
   "execution_count": 38,
   "id": "7317d9b3",
   "metadata": {},
   "outputs": [],
   "source": [
    "#feature Feature Scaling is the most important part of data preprocessing. If we see our\n",
    "#dataset then some attribute contains information in Numeric value some value very high andsome\n",
    "#are very low if we see the age and estimated salary.\n",
    "\n",
    "from sklearn.preprocessing import StandardScaler\n",
    "sc_X = StandardScaler()\n",
    "X_train1 = sc_X.fit_transform(X_train1)\n",
    "\n",
    "X_test1 = sc_X.transform(X_test1)"
   ]
  },
  {
   "cell_type": "markdown",
   "id": "66a2cc08",
   "metadata": {},
   "source": [
    "##### 2.1.1 Import the Libraries"
   ]
  },
  {
   "cell_type": "code",
   "execution_count": 39,
   "id": "fb9c18e2",
   "metadata": {},
   "outputs": [],
   "source": [
    "# import LDA model\n",
    "from sklearn.discriminant_analysis import LinearDiscriminantAnalysis as LDA"
   ]
  },
  {
   "cell_type": "markdown",
   "id": "e606db96",
   "metadata": {},
   "source": [
    "##### 2.2.1 Initialize our model"
   ]
  },
  {
   "cell_type": "code",
   "execution_count": 40,
   "id": "a0033f6c",
   "metadata": {},
   "outputs": [],
   "source": [
    "# initialize the LDA\n",
    "lda2 = LDA(n_components = 2)"
   ]
  },
  {
   "cell_type": "markdown",
   "id": "153b8641",
   "metadata": {},
   "source": [
    "##### 2.3.1 Fitting the Model"
   ]
  },
  {
   "cell_type": "code",
   "execution_count": 41,
   "id": "db5ca71b",
   "metadata": {},
   "outputs": [],
   "source": [
    "# fitting the LDA model\n",
    "X_test1 = lda2.fit_transform(X_test1, y_test1)\n",
    "X_train1 = lda2.transform(X_train1)"
   ]
  },
  {
   "cell_type": "markdown",
   "id": "d9a9885d",
   "metadata": {},
   "source": [
    "#####  3.1.1 Import the Libraries"
   ]
  },
  {
   "cell_type": "code",
   "execution_count": 42,
   "id": "b2db860a",
   "metadata": {},
   "outputs": [],
   "source": [
    "# import the Logistic Regression model from sklearn using the 2 variances with \n",
    "#,!the help of LDA\n",
    "\n",
    "from sklearn.linear_model import LogisticRegression"
   ]
  },
  {
   "cell_type": "markdown",
   "id": "8c3feaec",
   "metadata": {},
   "source": [
    "##### 3.2.1 Initialize our Logistic Regression model"
   ]
  },
  {
   "cell_type": "code",
   "execution_count": 43,
   "id": "98e1c3fa",
   "metadata": {},
   "outputs": [],
   "source": [
    "LG1=LogisticRegression(random_state=0)"
   ]
  },
  {
   "cell_type": "markdown",
   "id": "8cfbd05d",
   "metadata": {},
   "source": [
    "##### 3.3.1  Fitting the Model"
   ]
  },
  {
   "cell_type": "code",
   "execution_count": 44,
   "id": "1a86bf92",
   "metadata": {},
   "outputs": [
    {
     "data": {
      "text/plain": [
       "LogisticRegression(random_state=0)"
      ]
     },
     "execution_count": 44,
     "metadata": {},
     "output_type": "execute_result"
    }
   ],
   "source": [
    "# fit the Logistic Regression model\n",
    "LG1.fit(X_train1,y_train1)"
   ]
  },
  {
   "cell_type": "markdown",
   "id": "43b7540f",
   "metadata": {},
   "source": [
    "##### 4.1.1 Predict the test set Result"
   ]
  },
  {
   "cell_type": "code",
   "execution_count": 45,
   "id": "50bcac03",
   "metadata": {},
   "outputs": [],
   "source": [
    "# predict the Logistic regression model\n",
    "y_pred1=LG1.predict(X_test1)"
   ]
  },
  {
   "cell_type": "markdown",
   "id": "cebe03b3",
   "metadata": {},
   "source": [
    "##### 4.2.1 Confusion Matrix"
   ]
  },
  {
   "cell_type": "code",
   "execution_count": 46,
   "id": "b52117d9",
   "metadata": {},
   "outputs": [
    {
     "data": {
      "text/plain": [
       "(40,)"
      ]
     },
     "execution_count": 46,
     "metadata": {},
     "output_type": "execute_result"
    }
   ],
   "source": [
    "y_pred1.shape"
   ]
  },
  {
   "cell_type": "code",
   "execution_count": 47,
   "id": "9e157e84",
   "metadata": {},
   "outputs": [
    {
     "data": {
      "text/plain": [
       "(40,)"
      ]
     },
     "execution_count": 47,
     "metadata": {},
     "output_type": "execute_result"
    }
   ],
   "source": [
    "y_test1.shape"
   ]
  },
  {
   "cell_type": "code",
   "execution_count": 48,
   "id": "d4e6c195",
   "metadata": {},
   "outputs": [
    {
     "data": {
      "text/plain": [
       "[Text(0.5, 1.0, 'Confusion Metrics for Drug Test')]"
      ]
     },
     "execution_count": 48,
     "metadata": {},
     "output_type": "execute_result"
    },
    {
     "data": {
      "image/png": "[encoded data removed]",
      "text/plain": [
       "<Figure size 432x288 with 2 Axes>"
      ]
     },
     "metadata": {
      "needs_background": "light"
     },
     "output_type": "display_data"
    }
   ],
   "source": [
    "# making a confusion metrics\n",
    "from sklearn.metrics import confusion_matrix\n",
    "confusion_matrix1=confusion_matrix(y_test1,y_pred1)\n",
    "sns.heatmap(confusion_matrix1, annot=True, cmap=\"magma\").set(title='Confusion Metrics for Drug Test')"
   ]
  },
  {
   "cell_type": "markdown",
   "id": "afd80ca3",
   "metadata": {},
   "source": [
    "##### 4.3 Visualize our Test Set Result"
   ]
  },
  {
   "cell_type": "code",
   "execution_count": 49,
   "id": "a0954f7d",
   "metadata": {},
   "outputs": [
    {
     "data": {
      "image/png": "[encoded data removed]",
      "text/plain": [
       "<Figure size 432x288 with 1 Axes>"
      ]
     },
     "metadata": {
      "needs_background": "light"
     },
     "output_type": "display_data"
    }
   ],
   "source": [
    "#Visualising the Test set results\n",
    "\n",
    "from matplotlib.colors import ListedColormap\n",
    "X_set1, y_set1 = X_test1, y_test1\n",
    "\n",
    "X1drug, X2drug = np.meshgrid(np.arange(start = X_set1[:, 0].min() - 1, stop = X_set1[:, 0].\n",
    "                              max() + 1, step = 0.01),\n",
    "                    np.arange(start = X_set1[:, 1].min() - 1, stop = X_set1[:, 1].\n",
    "                              max() + 1, step = 0.01))\n",
    "\n",
    "plt.contourf(X1drug, X2drug, LG1.predict(np.array([X1drug.ravel(), X2drug.ravel()]).T).reshape(X1drug.shape),\n",
    "            alpha = 0.75, cmap = ListedColormap(('red','green','blue','orange','purple')))\n",
    "plt.xlim(X1drug.min(), X1drug.max())\n",
    "plt.ylim(X2drug.min(), X2drug.max())\n",
    "for i, j in enumerate(np.unique(y_set1)):\n",
    "    plt.scatter(X_set1[y_set1 == j, 0], X_set1[y_set1 == j, 1],\n",
    "               color = ListedColormap(('red','green','blue','orange','purple'))(i), label = j)\n",
    "plt.title('Logistic Regression for drug test (Test set)')\n",
    "plt.xlabel('LD1')\n",
    "plt.ylabel('LD2')\n",
    "plt.legend()\n",
    "plt.show() "
   ]
  },
  {
   "cell_type": "markdown",
   "id": "e65388f7",
   "metadata": {},
   "source": [
    "### Kesimpulan\n",
    "\n",
    "\n",
    "\n",
    "Berikan simpulan yang dilakukan dari hasil kerja menggunakan algoritma dan 2 dataset yang\n",
    "dipilih. Simpulan bisa berkisar antara (bisa di modifikasi):\n",
    "\n",
    "    - Hasil perbandingan akurasi antara algoritma menurut saya berbeda karena class dataset antara glass dan Drug berbeda.\n",
    "    - Pada week ini saya belajar tentang LDA. LDA merupakan sebuah teknik analisis statistik multivariat yang digunakan untuk memisahkan atau mengklasifikasikan data menjadi dua atau lebih kelompok yang telah ditentukan sebelumnya berdasarkan variabel prediktor yang diukur. di dalam modul ini saya mencoba dataset antara glass dan drug. Selain LDA, saya juga menggunakan Logistic regression, training data supaya bisa melihat hasil dari LDA yang saya sudah buat. Pada akhir dari praktikum ini semua hasilnya dibuat menjadi visualisasi menggunakan scatter plot dengan batas batas class yang sudah diinput pada proses predict serta train_model. "
   ]
  },
  {
   "cell_type": "code",
   "execution_count": 50,
   "id": "60b9b4ca",
   "metadata": {},
   "outputs": [
    {
     "name": "stdout",
     "output_type": "stream",
     "text": [
      "I certify that this is my own work.\n",
      "Signed by:\n",
      "Name: \tChristopher Darren\n",
      "NIM: \t00000054804\n",
      "Time-stamp:\t2023-03-05 21:36:55.981883\n"
     ]
    }
   ],
   "source": [
    "# Footer\n",
    "myDate = datetime.datetime.now()\n",
    "print(\"I certify that this is my own work.\")\n",
    "print(\"Signed by:\")\n",
    "print(\"Name: \\t{}\".format(myName))\n",
    "print(\"NIM: \\t{}\".format(myNIM))\n",
    "print(\"Time-stamp:\\t{}\".format(myDate))"
   ]
  },
  {
   "cell_type": "markdown",
   "id": "115e24b4",
   "metadata": {},
   "source": [
    "***\n",
    "\n",
    "### Save the notebook, then convert the notebook to html (by running the next code)."
   ]
  },
  {
   "cell_type": "code",
   "execution_count": 51,
   "id": "1e86341c",
   "metadata": {
    "scrolled": true
   },
   "outputs": [
    {
     "name": "stderr",
     "output_type": "stream",
     "text": [
      "[NbConvertApp] Converting notebook ./IF540_Kelas EL_00000054804_Christopher Darren_Week04.ipynb to html\n",
      "[NbConvertApp] Writing 737312 bytes to IF540_Kelas EL_00000054804_Christopher Darren_Week04.html\n"
     ]
    }
   ],
   "source": [
    "!jupyter nbconvert --to html \"./IF540_Kelas EL_00000054804_Christopher Darren_Week04.ipynb\" --output-dir=\"./\""
   ]
  },
  {
   "cell_type": "markdown",
   "id": "e16a0495",
   "metadata": {},
   "source": [
    "### Next step:\n",
    "* convert the generated html file to PDF using the online tool: https://www.sejda.com/html-to-pdf\n",
    "* choose the following settings:\n",
    "    * Page size: One long page\n",
    "    * Page Orientation: auto\n",
    "    * Use print stylesheet\n",
    "* Submit your ipython notebook and PDF files\n",
    "\n",
    "Markdown basics https://markdown-guide.readthedocs.io/en/latest/basics.html#"
   ]
  }
 ],
 "metadata": {
  "kernelspec": {
   "display_name": "Python 3 (ipykernel)",
   "language": "python",
   "name": "python3"
  },
  "language_info": {
   "codemirror_mode": {
    "name": "ipython",
    "version": 3
   },
   "file_extension": ".py",
   "mimetype": "text/x-python",
   "name": "python",
   "nbconvert_exporter": "python",
   "pygments_lexer": "ipython3",
   "version": "3.9.12"
  }
 },
 "nbformat": 4,
 "nbformat_minor": 5
}
